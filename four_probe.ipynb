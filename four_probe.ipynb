{
 "cells": [
  {
   "cell_type": "markdown",
   "metadata": {},
   "source": [
    "# Four probe:\n",
    "\n",
    "http://www.analog.com/en/design-center/reference-designs/hardware-reference-design/circuits-from-the-lab/CN0359.html#rd-overview\n",
    "\n",
    "a 555 design that makes it seem plausible (but isn't): http://emesystems.com/OL2mhos.htm\n",
    "\n",
    "a diploma using a similar conductivity circuit, with the same electrical isolation trick: (!)\n",
    "\n",
    "http://publications.lib.chalmers.se/records/fulltext/205866/205866.pdf\n",
    "\n",
    "### Nice reference on measuring small currents\n",
    "\n",
    "http://www.tek.com/sites/tek.com/files/media/document/resources/LowCurtMsmntsAppNote.pdf\n",
    "\n",
    "Note: referrring to circuit in cn0359 -- the above link describes the 'feedback ammeter' current measurement technique, which is used in cn0359, U19.\n",
    "\n",
    "more description of feedback ammeters, here: http://www.ni.com/tutorial/5448/en/#toc1\n",
    "\n",
    "eevblog nanoamp measurement:\n",
    "http://www.eevblog.com/files/uCurrentRev5schematic.pdf\n",
    "\n",
    "### Thoughts\n",
    "\n",
    "Looks on our ADC -- ads1115 -- https://www.adafruit.com/datasheets/ads1115.pdf -- it already has (?) a sample and hold feature and in internal voltage reference. So that's not needed.\n",
    "\n",
    "For a four probe measurement, can't we just set up a feedback ammeter on the outer pins, and the ADC differentially across the inner pins?\n",
    "\n",
    "Issue: if we're driving with a small oscillating voltage, we can turn that into a constant signal with the RC filter -- but what do we do about the current?  it will be oscillating as well ... we just need to catch it? is this where track-and-hold comes in handy?\n",
    "\n",
    "### current sensing \n",
    "current sense circuit collection: http://cds.linear.com/docs/en/application-note/an105fa.pdf\n",
    "\n",
    "**VERY** nice guide to small currents: http://circuitcellar.com/cc-blog/tips-for-measuring-small-currents/\n",
    "\n",
    "Possible Opamp JFET: http://www.mouser.com/ProductDetail/Texas-Instruments/TL072CP/?qs=5nGYs9Do7G3e6Tx9uHIgUA%3D%3D&gclid=Cj0KEQiAl5u2BRC6yszC1_75v5wBEiQAD-hdz6XGB_H83ThtRrFHteYO85Y-LECasHd4Coc4grbqR9waAkos8P8HAQ\n",
    "\n",
    "http://www.mouser.com/ds/2/405/tl072-557363.pdf\n"
   ]
  },
  {
   "cell_type": "markdown",
   "metadata": {},
   "source": [
    "# Four Probe\n",
    "\n",
    "Perhaps can use:\n",
    "\n",
    "- Analog's reference circuit: http://www.analog.com/media/en/reference-design-documentation/reference-designs/CN0359.pdf\n",
    "- guide to small currents: http://circuitcellar.com/cc-blog/tips-for-measuring-small-currents/\n",
    "- Brian's schematic: <img src=\"./images/brian_circuit.jpg\">\n",
    "\n",
    "- My schematic: <img src=\"./images/db_circuit.jpg\">\n",
    "\n",
    "My schematic is wrong -- could we use a differential ADC across 2 and 3?\n",
    "\n",
    "- And perhaps a JFET opamp part like this: http://www.mouser.com/ds/2/405/tl072-557363.pdf\n",
    "\n",
    "\n",
    "\n"
   ]
  },
  {
   "cell_type": "markdown",
   "metadata": {},
   "source": [
    "## References\n",
    "\n",
    "- Low Level Measurements Handbook\n",
    "http://wiki.epfl.ch/carplat/documents/LowLevMsHandbk.pdf\n",
    "\n",
    "- AC coupled amplifier circuit: http://www.analog.com/library/analogdialogue/archives/41-08/amplifier_circuits.html\n",
    "(see fig 2)\n",
    "\n",
    "- Measuring small currents: https://www.maximintegrated.com/en/app-notes/index.mvp/id/3428\n",
    "\n",
    "- precision low current measurement w/ transimpedance amplifier -- uses feedback ammeter config: \n",
    "https://www.youtube.com/watch?v=YfB1hZ44B20\n",
    "\n",
    "- Low current measurement -- showign feedback ammeter (Fig 3) with option for selectable voltage gain (Fig 4) (!!) http://www.tek.com/sites/tek.com/files/media/document/resources/LowCurtMsmntsAppNote.pdf\n",
    "\n",
    "- Keitley: making precise low current measurements: http://www.tek.com/sites/tek.com/files/media/document/resources/LCHR_E-Handbook_071712.pdf (see note on guarding)\n",
    "\n",
    "- Note: protection of ammeter op amp from transients -- diodes and resistor -- AND feedback ammeter + precision rectifier! http://www.electroschematics.com/6928/acdc-microammeter-circuit/\n",
    "\n",
    "\n",
    "Recommended jfet op-amp:  TL07XX -- dual here: http://www.digikey.com/product-detail/en/TL072IP/296-14997-5-ND/563039\n",
    "\n",
    "- differential ADC drivers \"rules of the road\": http://www.analog.com/library/analogdialogue/archives/43-05/adc_drivers.pdf\n",
    "\n",
    "- differential adc biasing techniques (refers to ac input): http://ww1.microchip.com/downloads/en/AppNotes/00842a.pdf\n",
    "\n",
    "- more notes on differential drivers: http://www.analog.com/media/en/training-seminars/tutorials/MT-075.pdf\n",
    "\n",
    "- understanding single-ended and differential input adcs: https://www.maximintegrated.com/en/app-notes/index.mvp/id/1108\n",
    "\n",
    "- absolute value circuit and difference amplifier: http://www.analog.com/library/analogDialogue/archives/44-04/absolute.html -- how to use a difference amplifier to get an absolute value circuit  (see also: figure 6, here: http://www.ti.com/lit/an/sboa068/sboa068.pdf) (see also: figure 8, here: http://cds.linear.com/docs/en/application-note/an96fa.pdf) (see also: fig 4., here: http://sound.westhost.com/appnotes/an001.htm)\n",
    "\n",
    "[PLAN:  use the above link diagram, and design with the Max4194 or INA827 below.]\n",
    "\n",
    "Max4194 -- precision instrumentation op amp, works with proper supply $2: http://datasheets.maximintegrated.com/en/ds/MAX4194-MAX4197.pdf\n",
    "\n",
    "INA827 -- ditto, $1.50: http://www.digikey.com/product-detail/en/INA827AIDGKR/296-30588-2-ND/3479416\n",
    "\n",
    "- precision absolute value circuits: http://www.ti.com/lit/an/sboa068/sboa068.pdf and http://www.linear.com/solutions/1567\n",
    "\n",
    "- great explanation of precision rectifier circuits: http://sound.westhost.com/appnotes/an001.htm\n",
    "\n",
    "### general\n",
    "\n",
    "- abc's of adcs -- signal to noise ratio, etc: http://www.delftek.com/wp-content/uploads/2012/04/National_ABCs_of_ADCs.pdf"
   ]
  },
  {
   "cell_type": "markdown",
   "metadata": {},
   "source": [
    "------\n",
    "\n",
    "## General good rail-to-rail quad op amp at 3V\n",
    "\n",
    "- LMC6484IN $2.90 http://www.digikey.com/product-detail/en/LMC6484IN%2FNOPB/LMC6484IN%2FNOPB-ND/164521\n",
    "\n",
    "\n",
    "## Current measurement\n",
    "\n",
    "- Use: http://www.electroschematics.com/6928/acdc-microammeter-circuit/ and figure 4 from http://www.tek.com/sites/tek.com/files/media/document/resources/LowCurtMsmntsAppNote.pdf  (might want precision full wave that uses diff amp approach -- see http://sound.westhost.com/appnotes/an001.htm  and http://www.analog.com/library/analogDialogue/archives/44-04/absolute.html)\n",
    "- good jfet op amp (dip): http://www.digikey.com/product-detail/en/TL072IP/296-14997-5-ND/563039\n",
    "- will the tl071c do 3v input?\n",
    "- ad823 -- only dip package at vsupp = 3v -- dual for 7 dollars: http://www.digikey.com/product-detail/en/AD823ANZ/AD823ANZ-ND/751153\n",
    "- better -- dip op-amp JFET rail to rail for 4 dollars: http://www.digikey.com/product-detail/en/AD820ANZ/AD820ANZ-ND/751147  -- ad820: http://www.analog.com/media/en/technical-documentation/data-sheets/AD820.pdf\n",
    "\n",
    "\n",
    "## Voltage measurement\n",
    "\n",
    "- Good surface mount instrument amp: http://www.ti.com/lit/ds/symlink/ina827.pdf\n",
    "- Good dip instrument amp: http://www.mouser.com/ds/2/609/AD623-249255.pdf\n",
    "\n",
    "## General\n",
    "\n",
    "- Use the jfet op amp as part of the rectifier, and for buffer ... so get several\n",
    "- Can also use differential amp as rectifier ... so get several\n",
    "\n",
    "- how to hide code in nbconvert ipython output: http://hannes-brt.github.io/blog/2013/08/11/ipython-slideshows-will-change-the-way-you-work/\n",
    "\n",
    "# Plan\n",
    "\n",
    "Need to buy:\n",
    "\n",
    "- 3V mini pros\n",
    "- quad general 3V rail to rail op amp for buffers and rectifiers LMC6484IN: [digikey](http://www.digikey.com/product-detail/en/LMC6484IN%2FNOPB/LMC6484IN%2FNOPB-ND/164521)\n",
    "- jfet 3V rail to rail op amp for current measurement ad820: [datasheet](http://www.analog.com/media/en/technical-documentation/data-sheets/AD820.pdf), [digikey](http://www.digikey.com/product-detail/en/AD820ANZ/AD820ANZ-ND/751147)\n",
    "- differential / instrumentation op amp w/ variable gain:  dip AD623: [mouser](http://www.mouser.com/ds/2/609/AD623-249255.pdf) [digikey](http://www.digikey.com/product-detail/en/AD623ANZ/AD623ANZ-ND/750974), and, later, surface mount ina827: [datasheet](http://www.ti.com/lit/ds/symlink/ina827.pdf); cheaper differential amp on digikey: the BA10324A [digikey](http://www.digikey.com/product-detail/en/BA10324A/BA10324A-ND/658228)\n",
    "- jumper wires\n",
    "- charge pump +/- 3V ADM8660: [digikey](http://www.digikey.com/product-detail/en/ADM8660ANZ/ADM8660ANZ-ND/997566)\n",
    "\n",
    "Also:\n",
    "\n",
    "- split off the 2-probe and 4-probe notes ..."
   ]
  },
  {
   "cell_type": "markdown",
   "metadata": {
    "collapsed": true
   },
   "source": [
    "## Filters\n",
    "\n",
    "---\n",
    "\n",
    "Low-pass. Resistor in series with load, capacitor in parallel.\n",
    "\n",
    "https://en.wikipedia.org/wiki/Low-pass_filter\n",
    "\n",
    "http://www.learningaboutelectronics.com/Articles/Low-pass-filter-calculator.php#answer1\n",
    "\n",
    "$f_c=\\frac{1}{(2 \\pi R C)}$\n",
    "\n",
    "---\n",
    "\n",
    "High pass. Resistor in parallel with load, capacitor in series.\n",
    "\n",
    "https://en.wikipedia.org/wiki/High-pass_filter\n",
    "\n",
    "$f_c=\\frac{1}{(2 \\pi R C)}$\n",
    "\n",
    "Great resource:\n",
    "\n",
    "http://www.ti.com/lit/ml/sloa088/sloa088.pdf\n",
    "\n"
   ]
  },
  {
   "cell_type": "code",
   "execution_count": 2,
   "metadata": {
    "collapsed": true
   },
   "outputs": [],
   "source": [
    "f_upper=1200 # let's have the upper bound be 2000 kHz"
   ]
  },
  {
   "cell_type": "code",
   "execution_count": 3,
   "metadata": {
    "collapsed": true
   },
   "outputs": [],
   "source": [
    "f_lower=800"
   ]
  },
  {
   "cell_type": "code",
   "execution_count": 7,
   "metadata": {
    "collapsed": false
   },
   "outputs": [
    {
     "data": {
      "text/plain": [
       "132.62923127036524"
      ]
     },
     "execution_count": 7,
     "metadata": {},
     "output_type": "execute_result"
    }
   ],
   "source": [
    "c=1e-6; # 1 uF \n",
    "r_low_pass=1/(f_upper*c*2*3.14159)\n",
    "r_low_pass"
   ]
  },
  {
   "cell_type": "code",
   "execution_count": 8,
   "metadata": {
    "collapsed": false
   },
   "outputs": [
    {
     "data": {
      "text/plain": [
       "198.94384690554787"
      ]
     },
     "execution_count": 8,
     "metadata": {},
     "output_type": "execute_result"
    }
   ],
   "source": [
    "c=1e-6; # 1 uF \n",
    "r_high_pass=1/(f_lower*c*2*3.14159)\n",
    "r_high_pass"
   ]
  },
  {
   "cell_type": "markdown",
   "metadata": {},
   "source": [
    "## circuit building notes\n",
    "\n",
    "need to build / use an instrumentation amplifier:\n",
    "\n",
    "https://en.wikipedia.org/wiki/Instrumentation_amplifier\n",
    "\n",
    "\n",
    "JFet op amp -- useful for current measurement and for voltage differential amplifier construction.\n",
    "\n",
    "prototyping with the ad820anz from digikey\n",
    "\n",
    "sensing small currents:\n",
    "\n",
    "https://www.maximintegrated.com/en/app-notes/index.mvp/id/3428\n",
    "\n",
    "transimpedance amplifier:\n",
    "\n",
    "https://en.wikipedia.org/wiki/Transimpedance_amplifier\n",
    "\n",
    "good reference:\n",
    "\n",
    "Building electro-optical systems by Philip C. D. Hobbs.\n",
    "\n",
    "detailed analysis of transimpedance amplifier performance: http://www.planetanalog.com/document.asp?doc_id=527534\n",
    "\n",
    "using a capacitor in an amplifier to avoid non-ac signals: \n",
    "http://www.instructables.com/id/Simple-DIY-Pulse-Sensor/?ALLSTEPS\n",
    "\n",
    "\n"
   ]
  },
  {
   "cell_type": "code",
   "execution_count": 10,
   "metadata": {
    "collapsed": false
   },
   "outputs": [
    {
     "data": {
      "text/plain": [
       "1e-05"
      ]
     },
     "execution_count": 10,
     "metadata": {},
     "output_type": "execute_result"
    }
   ],
   "source": [
    "1/100e3"
   ]
  },
  {
   "cell_type": "code",
   "execution_count": 11,
   "metadata": {
    "collapsed": false
   },
   "outputs": [
    {
     "data": {
      "text/plain": [
       "7.650000000000002e-05"
      ]
     },
     "execution_count": 11,
     "metadata": {},
     "output_type": "execute_result"
    }
   ],
   "source": [
    "(3.185-2.42)/10e3"
   ]
  },
  {
   "cell_type": "code",
   "execution_count": 13,
   "metadata": {
    "collapsed": false
   },
   "outputs": [
    {
     "data": {
      "text/plain": [
       "0.11699999999999999"
      ]
     },
     "execution_count": 13,
     "metadata": {},
     "output_type": "execute_result"
    }
   ],
   "source": [
    "(2.537-2.42)"
   ]
  },
  {
   "cell_type": "code",
   "execution_count": 15,
   "metadata": {
    "collapsed": false
   },
   "outputs": [
    {
     "data": {
      "text/plain": [
       "6.8e-06"
      ]
     },
     "execution_count": 15,
     "metadata": {},
     "output_type": "execute_result"
    }
   ],
   "source": [
    "68e-3/10e3"
   ]
  },
  {
   "cell_type": "code",
   "execution_count": 20,
   "metadata": {
    "collapsed": false
   },
   "outputs": [
    {
     "data": {
      "text/plain": [
       "0.00041500000000000006"
      ]
     },
     "execution_count": 20,
     "metadata": {},
     "output_type": "execute_result"
    }
   ],
   "source": [
    "(3.25-2.42)/2e3"
   ]
  },
  {
   "cell_type": "code",
   "execution_count": 17,
   "metadata": {
    "collapsed": false
   },
   "outputs": [
    {
     "data": {
      "text/plain": [
       "7.8e-05"
      ]
     },
     "execution_count": 17,
     "metadata": {},
     "output_type": "execute_result"
    }
   ],
   "source": [
    ".78/10e3"
   ]
  },
  {
   "cell_type": "code",
   "execution_count": 18,
   "metadata": {
    "collapsed": false
   },
   "outputs": [
    {
     "data": {
      "text/plain": [
       "0.00023799999999999998"
      ]
     },
     "execution_count": 18,
     "metadata": {},
     "output_type": "execute_result"
    }
   ],
   "source": [
    "(4.8-2.42)/10e3"
   ]
  },
  {
   "cell_type": "markdown",
   "metadata": {
    "collapsed": true
   },
   "source": [
    "PWM: \n",
    "\n",
    "https://www.arduino.cc/en/Tutorial/SecretsOfArduinoPWM\n",
    "\n",
    "set pwm frequency: \n",
    "\n",
    "http://playground.arduino.cc/Code/PwmFrequency\n",
    "\n",
    "https://arduino-info.wikispaces.com/Arduino-PWM-Frequency\n",
    "\n",
    "which timers are connected to which pins:\n",
    "http://www.oxgadgets.com/2011/04/creating-a-variable-frequency-pwm-output-on-arduino-uno.html\n",
    "\n",
    "frequencytimer2 library looks like it might be just what we need:\n",
    "https://www.pjrc.com/teensy/td_libs_FrequencyTimer2.html\n",
    "\n",
    "http://playground.arduino.cc/Code/FrequencyTimer2\n",
    "\n",
    "actually, no -- because it requires pin 11 (MOSI)\n",
    "\n",
    "better -- with example code:\n",
    "\n",
    "http://forum.arduino.cc/index.php?topic=128269.0\n",
    "\n",
    "sspecifically:\n",
    "\n",
    "#include <TimerHelpers.h>\n",
    "\n",
    "// Timer 0\n",
    "\n",
    "// output    OC0A   pin 12  (D6)\n",
    "\n",
    "const byte timer0OutputA = 6;\n",
    " \n",
    "void setup() {\n",
    "  pinMode (timer0OutputA, OUTPUT); \n",
    "  TIMSK0 = 0;  // no interrupts\n",
    "  Timer0::setMode (2, Timer0::PRESCALE_1, Timer0::TOGGLE_A_ON_COMPARE);\n",
    "  OCR0A = 1;  // count to 2\n",
    "}  // end of setup\n",
    "\n",
    "void loop() {}\n",
    "\n",
    "\n",
    "http://www.instructables.com/id/Simple-DIY-Pulse-Sensor/?ALLSTEPS\n",
    "\n",
    "nice logic analyzer for sale: https://www.saleae.com/\n",
    "\n",
    "\n",
    "code for 1 khz pwm: \n",
    "\n",
    "http://forum.arduino.cc/index.php?topic=155897.0\n",
    "\n",
    "!!! grumpy mike's code here does 32 khz sw, and also fires on interrupt:\n",
    "\n",
    "http://forum.arduino.cc/index.php?topic=102430.0\n",
    "\n",
    "also decribes the timer pins:\n",
    "\n",
    "so, goal tomorrow:  use the timer an interrupts to generate a square wave, and fire some interrupt a few counts in ... then set up filtering, make measurement of current through resistor ... \n",
    "\n",
    "explains how timer interrupts work:\n",
    "\n",
    "https://learn.adafruit.com/multi-tasking-the-arduino-part-2/timers\n",
    "\n",
    "cool ir remote library:\n",
    "http://www.righto.com/2009/08/multi-protocol-infrared-remote-library.html\n",
    "\n",
    "good interrupt code with counter and pwm:\n",
    "\n",
    "http://letsmakerobots.com/node/28278\n",
    "\n",
    "great overall tutorial on timers: http://www.gammon.com.au/timers\n",
    "\n",
    "this might be precisely what is needed (except for adding a delay):\n",
    "http://playground.arduino.cc/Main/FlexiTimer2\n",
    "\n",
    "also probably very close:\n",
    "http://arduinomega.blogspot.com/2011/05/timer2-and-overflow-interrupt-lets-get.html\n",
    "\n",
    "10 khz pwm frequency: \n",
    "https://www.youtube.com/watch?v=9JXGIeM3BSI\n",
    "\n",
    "http://playground.arduino.cc/Code/PwmFrequency\n",
    "\n",
    "EXACTLY what is needed:\n",
    "\n",
    "http://popdevelop.com/2010/04/mastering-timer-interrupts-on-the-arduino/\n",
    "\n",
    "http://maxembedded.com/2011/06/avr-timers-timer2/ <--- try this one\n",
    "\n"
   ]
  },
  {
   "cell_type": "code",
   "execution_count": 3,
   "metadata": {
    "collapsed": false
   },
   "outputs": [
    {
     "data": {
      "text/plain": [
       "0.001"
      ]
     },
     "execution_count": 3,
     "metadata": {},
     "output_type": "execute_result"
    }
   ],
   "source": [
    "1/1e3 # period of 2 kHz, in seconds"
   ]
  },
  {
   "cell_type": "markdown",
   "metadata": {},
   "source": [
    "i.e. -- 1 millisecond\n",
    "\n",
    "working with code here:\n",
    "\n",
    "http://popdevelop.com/2010/04/mastering-timer-interrupts-on-the-arduino/\n",
    "\n",
    "or maybe here:\n",
    "\n",
    "https://github.com/PaulStoffregen/FlexiTimer2\n",
    "\n",
    "good code here, but indication that maybe timer2 isn't the right one to use, as it messes with the analogWrite functions:\n",
    "\n",
    "http://arduino.stackexchange.com/questions/830/timer2-does-not-work-as-it-should\n",
    "\n",
    "http://www.hobbytronics.co.uk/arduino-timer-interrupts -- nice code, uses timer1\n",
    "\n",
    "using timer1 (pins 9,10): \n",
    "https://www.pjrc.com/teensy/td_libs_TimerOne.html\n",
    "\n",
    "for now we can do pins 9 and 10 -- 9 is an led, so no worry about any intereference there i think\n",
    "focus on pin 10\n",
    "\n",
    "timer1 library:\n",
    "http://playground.arduino.cc/Code/Timer1\n",
    "\n",
    "paul's timer1 code:\n",
    "https://www.pjrc.com/teensy/td_libs_TimerOne.html\n",
    "\n",
    "https://github.com/PaulStoffregen/TimerOne\n",
    "\n",
    "### code\n",
    "\n",
    "this seems to be working, more or less:\n",
    "\n",
    "https://gist.github.com/dwblair/f736a07d9d30e5bc0b43\n",
    "\n"
   ]
  },
  {
   "cell_type": "code",
   "execution_count": 4,
   "metadata": {
    "collapsed": false
   },
   "outputs": [
    {
     "data": {
      "text/plain": [
       "333333.3333333333"
      ]
     },
     "execution_count": 4,
     "metadata": {},
     "output_type": "execute_result"
    }
   ],
   "source": [
    "1/3e-6"
   ]
  },
  {
   "cell_type": "code",
   "execution_count": 7,
   "metadata": {
    "collapsed": false
   },
   "outputs": [
    {
     "data": {
      "text/plain": [
       "0.016383"
      ]
     },
     "execution_count": 7,
     "metadata": {},
     "output_type": "execute_result"
    }
   ],
   "source": [
    "16383e-6 # max time in seconds for delayMicroseconds() in arduino ide"
   ]
  },
  {
   "cell_type": "code",
   "execution_count": 21,
   "metadata": {
    "collapsed": false
   },
   "outputs": [],
   "source": [
    "f=90e3 # frequency in hz\n",
    "\n",
    "t=1/f # period in seconds for frequency f \n",
    "\n",
    "t_half =  (t/2)/1e-6 # half-period, in microseconds"
   ]
  },
  {
   "cell_type": "code",
   "execution_count": 22,
   "metadata": {
    "collapsed": false
   },
   "outputs": [
    {
     "name": "stdout",
     "output_type": "stream",
     "text": [
      "5.555555555555556\n"
     ]
    }
   ],
   "source": [
    "print(t_half) # half-period, in microseconds\n"
   ]
  },
  {
   "cell_type": "code",
   "execution_count": 1,
   "metadata": {
    "collapsed": true
   },
   "outputs": [],
   "source": [
    "f=2e3"
   ]
  },
  {
   "cell_type": "code",
   "execution_count": 5,
   "metadata": {
    "collapsed": false
   },
   "outputs": [],
   "source": [
    "t=(1/f)/1e-6 # period in microseconds"
   ]
  },
  {
   "cell_type": "code",
   "execution_count": 4,
   "metadata": {
    "collapsed": false
   },
   "outputs": [
    {
     "data": {
      "text/plain": [
       "500.00000000000006"
      ]
     },
     "execution_count": 4,
     "metadata": {},
     "output_type": "execute_result"
    }
   ],
   "source": [
    ".0005/1e-6"
   ]
  },
  {
   "cell_type": "code",
   "execution_count": 6,
   "metadata": {
    "collapsed": false
   },
   "outputs": [
    {
     "data": {
      "text/plain": [
       "150000.0"
      ]
     },
     "execution_count": 6,
     "metadata": {},
     "output_type": "execute_result"
    }
   ],
   "source": [
    ".15/1e-6"
   ]
  },
  {
   "cell_type": "code",
   "execution_count": 8,
   "metadata": {
    "collapsed": false
   },
   "outputs": [
    {
     "data": {
      "text/plain": [
       "30000.0"
      ]
     },
     "execution_count": 8,
     "metadata": {},
     "output_type": "execute_result"
    }
   ],
   "source": [
    "(3/.1e-6)/1e3 # in kOhms"
   ]
  },
  {
   "cell_type": "code",
   "execution_count": 9,
   "metadata": {
    "collapsed": false
   },
   "outputs": [
    {
     "data": {
      "text/plain": [
       "0.024999999999999998"
      ]
     },
     "execution_count": 9,
     "metadata": {},
     "output_type": "execute_result"
    }
   ],
   "source": [
    ".1e-6*.25e6"
   ]
  },
  {
   "cell_type": "code",
   "execution_count": 10,
   "metadata": {
    "collapsed": false
   },
   "outputs": [
    {
     "data": {
      "text/plain": [
       "6.144"
      ]
     },
     "execution_count": 10,
     "metadata": {},
     "output_type": "execute_result"
    }
   ],
   "source": [
    ".03/(5/1024)"
   ]
  },
  {
   "cell_type": "code",
   "execution_count": 30,
   "metadata": {
    "collapsed": false
   },
   "outputs": [
    {
     "name": "stdout",
     "output_type": "stream",
     "text": [
      "799.7742589167751\n"
     ]
    }
   ],
   "source": [
    "# high pass\n",
    "\n",
    "c=100e-6;\n",
    "f=1990;\n",
    "r=1/(2*3.14159*f*c)\n",
    "print(r/1e-3)"
   ]
  },
  {
   "cell_type": "code",
   "execution_count": 35,
   "metadata": {
    "collapsed": false
   },
   "outputs": [
    {
     "name": "stdout",
     "output_type": "stream",
     "text": [
      "791.8163060917327\n"
     ]
    }
   ],
   "source": [
    "# low pass\n",
    "c=100e-6;\n",
    "f=2010;\n",
    "r=1/(2*3.14159*f*c)\n",
    "print(r/1e-3)"
   ]
  },
  {
   "cell_type": "code",
   "execution_count": 44,
   "metadata": {
    "collapsed": false
   },
   "outputs": [
    {
     "name": "stdout",
     "output_type": "stream",
     "text": [
      "159.15507752443827\n"
     ]
    }
   ],
   "source": [
    "#found: 750k and and 850k\n",
    "r_a=10e3\n",
    "c=10e-9\n",
    "f=1/(2*3.14159*r_a*c)\n",
    "print(f)"
   ]
  },
  {
   "cell_type": "markdown",
   "metadata": {
    "collapsed": true
   },
   "source": [
    "# filter notes 4/12/2016\n",
    "\n",
    "Nice note on active filters: http://www.bu.edu/eng/courses/ek307/documents/ActiveFilterNotes.pdf\n",
    "\n",
    "figure 13.15\n",
    "\n",
    "even better note: http://www.electronics-tutorials.ws/filter/filter_7.html\n",
    "\n",
    "looks like second-order filters might have issues re: stability -- better to stick to first order\n",
    "\n",
    "<img src=\"./images/inv_band_pass.gif\">\n",
    "\n",
    "<img src=\"./images/inv_band_pass_eq.gif\">\n",
    "\n",
    "(inverting band pass filter, from: http://www.electronics-tutorials.ws/filter/filter_7.html)\n",
    "\n",
    "active filter design techniques: http://www.ti.com/lit/ml/sloa088/sloa088.pdf -- perhaps we want multiple feedback topology?\n",
    "\n",
    "nice clear notes: http://www.physics.unlv.edu/~bill/PHYS483/op_amp_filt.pdf\n",
    "\n",
    "page 3: inverting amp band pass filter\n",
    "\n",
    "note that square wave input to high pass filter is an 'rc differentiator circuit'\n",
    "\n",
    "more detail here: http://www.learnabout-electronics.org/Downloads/ac_theory_module08.pdf\n",
    "￼\n",
    "ultra-low current input amplifier:\n",
    "￼http://www.ti.com/lit/ds/symlink/lmc6001.pdf\n",
    "\n",
    "ALSO really nice reference:\n",
    "\n",
    "Programmable-Gain\n",
    " Transimpedance\n",
    "Amplifiers Maximize\n",
    "Dynamic Range in\n",
    "Spectroscopy Systems\n",
    "\n",
    "http://www.analog.com/library/analogdialogue/archives/47-05/pgtia.pdf\n",
    "\n",
    "overview:\n",
    "\n",
    "http://www.analog.com/en/applications/markets/instrumentation-and-measurement.html\n",
    "\n",
    "wow!  for turbidity -- dual-channel colorimeter: http://www.analog.com/en/design-center/reference-designs/hardware-reference-design/circuits-from-the-lab/CN0312.html\n",
    "\n",
    "specifically: http://www.analog.com/media/en/reference-design-documentation/reference-designs/CN0312.pdf\n",
    "\n",
    "http://www.analog.com/en/products/amplifiers/specialty-amplifiers/optical-transimpedance-amplifiers.html\n",
    "\n",
    "op-amp applications handbook: http://www.analog.com/library/analogDialogue/archives/39-05/op_amp_applications_handbook.html\n",
    "\n",
    "great overview lecture on instrumentation: http://www4.ncsu.edu/~franzen/public_html/CH454/Lecture_Instrumentation.pdf\n"
   ]
  },
  {
   "cell_type": "code",
   "execution_count": 7,
   "metadata": {
    "collapsed": false
   },
   "outputs": [
    {
     "data": {
      "text/plain": [
       "19.894384690554784"
      ]
     },
     "execution_count": 7,
     "metadata": {},
     "output_type": "execute_result"
    }
   ],
   "source": [
    "1/(2*3.14159*10e3*.8e-6) # f_l w/ "
   ]
  },
  {
   "cell_type": "code",
   "execution_count": 8,
   "metadata": {
    "collapsed": false
   },
   "outputs": [
    {
     "data": {
      "text/plain": [
       "18858.479632389393"
      ]
     },
     "execution_count": 8,
     "metadata": {},
     "output_type": "execute_result"
    }
   ],
   "source": [
    "1/(2*3.314159*100e3*80e-12) #f_h"
   ]
  },
  {
   "cell_type": "code",
   "execution_count": 9,
   "metadata": {
    "collapsed": false
   },
   "outputs": [
    {
     "data": {
      "image/png": "[encoded data removed]",
      "text/plain": [
       "<matplotlib.figure.Figure at 0x7f6cf4122128>"
      ]
     },
     "metadata": {},
     "output_type": "display_data"
    }
   ],
   "source": [
    "%matplotlib inline\n",
    "\n",
    "import matplotlib\n",
    "import numpy as np\n",
    "import matplotlib.pyplot as plt\n",
    "\n",
    "x = np.linspace(0, 3*np.pi, 500)\n",
    "plt.plot(x, np.sin(x**2))\n",
    "plt.title('A simple chirp')\n",
    "plt.show()"
   ]
  },
  {
   "cell_type": "code",
   "execution_count": 33,
   "metadata": {
    "collapsed": false
   },
   "outputs": [
    {
     "data": {
      "image/png": "[encoded data removed]",
      "text/plain": [
       "<matplotlib.figure.Figure at 0x7f6cf40b4278>"
      ]
     },
     "metadata": {},
     "output_type": "display_data"
    }
   ],
   "source": [
    "%matplotlib inline\n",
    "\n",
    "import matplotlib\n",
    "import numpy as np\n",
    "import matplotlib.pyplot as plt\n",
    "\n",
    "c=.1e-6 # farads \n",
    "r = np.linspace(500,2000,10)\n",
    "f=1/(2*3.14159*r*c)\n",
    "plt.plot(r,f)\n",
    "plt.show()"
   ]
  },
  {
   "cell_type": "markdown",
   "metadata": {},
   "source": [
    "so, looks like 150 ohms gives cutoff of 1500"
   ]
  },
  {
   "cell_type": "code",
   "execution_count": 57,
   "metadata": {
    "collapsed": false
   },
   "outputs": [
    {
     "data": {
      "text/plain": [
       "1591.550775244383"
      ]
     },
     "execution_count": 57,
     "metadata": {},
     "output_type": "execute_result"
    }
   ],
   "source": [
    "f=1/(2*3.14159*1e3*.1e-6);f"
   ]
  },
  {
   "cell_type": "code",
   "execution_count": 38,
   "metadata": {
    "collapsed": false
   },
   "outputs": [
    {
     "data": {
      "text/plain": [
       "159.15507752443827"
      ]
     },
     "execution_count": 38,
     "metadata": {},
     "output_type": "execute_result"
    }
   ],
   "source": [
    "1/(2*3.14159*100*10e-6)"
   ]
  },
  {
   "cell_type": "code",
   "execution_count": 42,
   "metadata": {
    "collapsed": false
   },
   "outputs": [
    {
     "data": {
      "text/plain": [
       "200.0"
      ]
     },
     "execution_count": 42,
     "metadata": {},
     "output_type": "execute_result"
    }
   ],
   "source": [
    "1/5000e-6"
   ]
  },
  {
   "cell_type": "code",
   "execution_count": 43,
   "metadata": {
    "collapsed": false
   },
   "outputs": [
    {
     "data": {
      "text/plain": [
       "0.5"
      ]
     },
     "execution_count": 43,
     "metadata": {},
     "output_type": "execute_result"
    }
   ],
   "source": [
    ".01*50"
   ]
  },
  {
   "cell_type": "code",
   "execution_count": 44,
   "metadata": {
    "collapsed": false
   },
   "outputs": [
    {
     "data": {
      "text/plain": [
       "1428.5714285714287"
      ]
     },
     "execution_count": 44,
     "metadata": {},
     "output_type": "execute_result"
    }
   ],
   "source": [
    "2/1.4e-3"
   ]
  },
  {
   "cell_type": "code",
   "execution_count": 45,
   "metadata": {
    "collapsed": false
   },
   "outputs": [
    {
     "data": {
      "text/plain": [
       "1.4"
      ]
     },
     "execution_count": 45,
     "metadata": {},
     "output_type": "execute_result"
    }
   ],
   "source": [
    "1.4e-3*1e3"
   ]
  },
  {
   "cell_type": "code",
   "execution_count": 46,
   "metadata": {
    "collapsed": false
   },
   "outputs": [
    {
     "data": {
      "text/plain": [
       "0.00036363636363636367"
      ]
     },
     "execution_count": 46,
     "metadata": {},
     "output_type": "execute_result"
    }
   ],
   "source": [
    "(3.66-2.5)/3.19e3"
   ]
  },
  {
   "cell_type": "code",
   "execution_count": 47,
   "metadata": {
    "collapsed": false
   },
   "outputs": [
    {
     "data": {
      "text/plain": [
       "0.00036363636363636367"
      ]
     },
     "execution_count": 47,
     "metadata": {},
     "output_type": "execute_result"
    }
   ],
   "source": [
    "(3.66-2.5)/3.19e3"
   ]
  },
  {
   "cell_type": "code",
   "execution_count": 49,
   "metadata": {
    "collapsed": false
   },
   "outputs": [
    {
     "data": {
      "text/plain": [
       "0.08777429467084634"
      ]
     },
     "execution_count": 49,
     "metadata": {},
     "output_type": "execute_result"
    }
   ],
   "source": [
    "(2.78-2.5)/3.19e3/1e-3"
   ]
  },
  {
   "cell_type": "code",
   "execution_count": 50,
   "metadata": {
    "collapsed": false
   },
   "outputs": [
    {
     "data": {
      "text/plain": [
       "0.2413793103448276"
      ]
     },
     "execution_count": 50,
     "metadata": {},
     "output_type": "execute_result"
    }
   ],
   "source": [
    "(3.27-2.5)/3.19e3/1e-3"
   ]
  },
  {
   "cell_type": "code",
   "execution_count": 51,
   "metadata": {
    "collapsed": false
   },
   "outputs": [
    {
     "data": {
      "text/plain": [
       "1.0999999999999999"
      ]
     },
     "execution_count": 51,
     "metadata": {},
     "output_type": "execute_result"
    }
   ],
   "source": [
    "1.4-.3"
   ]
  },
  {
   "cell_type": "code",
   "execution_count": 52,
   "metadata": {
    "collapsed": false
   },
   "outputs": [
    {
     "data": {
      "text/plain": [
       "0.24000000000000002"
      ]
     },
     "execution_count": 52,
     "metadata": {},
     "output_type": "execute_result"
    }
   ],
   "source": [
    ".33-.09"
   ]
  },
  {
   "cell_type": "code",
   "execution_count": 53,
   "metadata": {
    "collapsed": false
   },
   "outputs": [
    {
     "data": {
      "text/plain": [
       "0.74"
      ]
     },
     "execution_count": 53,
     "metadata": {},
     "output_type": "execute_result"
    }
   ],
   "source": [
    ".98-.24"
   ]
  },
  {
   "cell_type": "code",
   "execution_count": 54,
   "metadata": {
    "collapsed": false
   },
   "outputs": [
    {
     "data": {
      "text/plain": [
       "2614.285714285714"
      ]
     },
     "execution_count": 54,
     "metadata": {},
     "output_type": "execute_result"
    }
   ],
   "source": [
    "3.66/1.4e-3"
   ]
  },
  {
   "cell_type": "code",
   "execution_count": 55,
   "metadata": {
    "collapsed": false
   },
   "outputs": [
    {
     "data": {
      "text/plain": [
       "8424.242424242424"
      ]
     },
     "execution_count": 55,
     "metadata": {},
     "output_type": "execute_result"
    }
   ],
   "source": [
    "2.78/.33e-3"
   ]
  },
  {
   "cell_type": "code",
   "execution_count": 56,
   "metadata": {
    "collapsed": false
   },
   "outputs": [
    {
     "data": {
      "text/plain": [
       "3336.7346938775513"
      ]
     },
     "execution_count": 56,
     "metadata": {},
     "output_type": "execute_result"
    }
   ],
   "source": [
    "3.27/.98e-3"
   ]
  },
  {
   "cell_type": "code",
   "execution_count": 59,
   "metadata": {
    "collapsed": false
   },
   "outputs": [
    {
     "data": {
      "text/plain": [
       "100.00000000000001"
      ]
     },
     "execution_count": 59,
     "metadata": {},
     "output_type": "execute_result"
    }
   ],
   "source": [
    "1/10e3/1e-6"
   ]
  },
  {
   "cell_type": "markdown",
   "metadata": {},
   "source": [
    "op amps:\n",
    "\n",
    "through-hole:\n",
    "\n",
    "http://www.digikey.com/product-search/en/integrated-circuits-ics/linear-amplifiers-instrumentation-op-amps-buffer-amps/2556125?k=&pv161=2&pv659=271&pv659=34&pv659=248&pv659=254&pv659=253&pv659=203&pv659=249&pv659=408&pv659=113&pv659=26&pv659=255&pv659=245&pv659=1166&pv659=84&pv659=406&pv659=25&pv659=851&pv659=114&pv659=853&pv659=453&pv659=8&pv659=350&pv659=464&pv659=689&pv659=112&pv659=67&pv659=206&pv659=135&pv69=80&FV=fff40027%2Cfff800dd&mnonly=0&newproducts=0&ColumnSort=0&page=1&quantity=0&ptm=0&fid=0&pageSize=25\n",
    "\n",
    "currently using: ad8\n",
    "\n",
    "good instrumentation amp: \n",
    "\n",
    "good option: ad8223\n",
    "http://www.digikey.com/product-detail/en/analog-devices-inc/AD8223ARMZ-R7/AD8223ARMZ-R7CT-ND/1979416\n",
    "\n",
    "good jfet : \n",
    "currently using: http://www.analog.com/media/en/technical-documentation/data-sheets/AD820.pdf\n",
    "\n",
    "---\n",
    "\n",
    "# providence notes: \n",
    "\n",
    "good jfet / precision op-amp:  ad8618 -- quad --\n",
    "http://www.analog.com/media/en/technical-documentation/data-sheets/AD8615_8616_8618.pdf\n",
    "\n",
    "good instr. amp:\n",
    "\n",
    "ad8223\n",
    "http://www.analog.com/media/en/technical-documentation/data-sheets/AD8223.pdf\n",
    "\n",
    "\n"
   ]
  }
 ],
 "metadata": {
  "kernelspec": {
   "display_name": "Python 3",
   "language": "python",
   "name": "python3"
  },
  "language_info": {
   "codemirror_mode": {
    "name": "ipython",
    "version": 3
   },
   "file_extension": ".py",
   "mimetype": "text/x-python",
   "name": "python",
   "nbconvert_exporter": "python",
   "pygments_lexer": "ipython3",
   "version": "3.5.1"
  },
  "latex_envs": {
   "bibliofile": "biblio.bib",
   "cite_by": "apalike",
   "current_citInitial": 1,
   "eqLabelWithNumbers": true,
   "eqNumInitial": 0
  }
 },
 "nbformat": 4,
 "nbformat_minor": 0
}
