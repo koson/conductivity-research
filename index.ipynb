{
 "cells": [
  {
   "cell_type": "markdown",
   "metadata": {},
   "source": [
    "## 2016-2-2\n",
    "\n",
    "Notes on building and testing conductivity circuit here: https://github.com/SparkysWidgets/MinieCHW/blob/master/MinieCV1_2.pdf\n",
    "\n",
    "\n",
    "### Recent work\n",
    "\n",
    "Focusing in on the main part of the circuit, here:\n",
    "\n",
    "<img src=\"https://raw.githubusercontent.com/p-v-o-s/conductivity-research/master/images/op-amp.png\">\n",
    "\n",
    "Most of our time has been spent building the circuit around the various op-amps.\n",
    "\n",
    "**Saturation.**  I'm observing saturation at around 3.8 V.  I've now realized that this is likely the limit of op amp output for this particular op amp.  \n",
    "For the <a href=\"http://www.ti.com/lit/ds/symlink/tl072.pdf\">TL07xx</a> op amp, at VCC=5V, max output is ~ 3V: <img src=\"https://raw.githubusercontent.com/OpenWaterProject/conductivity-research/master/images/TL07MaxPeakOutput.png\">\n",
    "\n",
    "So this explains the saturation.  We might need to go to rail-to-rail (or dial in better input / amplification range).  But in general, we'll need to figure out the appropriate amplification circuitry for various anticipated solution conductivity values. \n",
    "\n",
    "The amplification happens on pins 5,6, and 7 of the op-amp in the circuit above.  Looking at this part of the circuit, we see that the op-amp is in a standard 'non-inverted amplifier' configuration:\n",
    "\n",
    "<img src=\"https://upload.wikimedia.org/wikipedia/commons/6/66/Operational_amplifier_noninverting.svg\">\n",
    "\n",
    "(Image is from a Wikipedia entry on [op-amps](https://en.wikipedia.org/wiki/Operational_amplifier).)\n",
    "\n",
    "The equation for the gain, $G$, is:\n",
    "\n",
    "$G = 1 + R_f/R_g$\n",
    "\n",
    "Where $R_f$ = \"R9\" in our circuit diagram above, and $R_g$ is the resistance provided by the probe in the water.  \n",
    "\n"
   ]
  },
  {
   "cell_type": "markdown",
   "metadata": {},
   "source": [
    "### Issues\n",
    "\n",
    "We chose a value of 40KOhm for R9 (\"$R_g$\") in our particular amplifier circuit.  We ended up hitting the \"rail\" (saturation point) of the op amp for all but the least conductive solutions, so it's time to dig into what amplification behavior we expect, given various values of $R_f$. Some notes:\n",
    "\n",
    "- Input voltage is ~ 250 mV.  (This is the voltage out of \"OSCVout\" in the above circuit diagram, i.e. the input to pin 5 on the op-amp.  \n",
    "- **Q**: do we measure the same voltage on pin 6 if we put it on the scope?\n",
    "- Gain G = 1 + R_f/R_w\n",
    "- The R_f we chose was 40K\n",
    "- Testing a 80 uS led to a voltage output of around 0.25 volts\n",
    "- Testing 1400 uS led to a voltage output of around 2.5 volts\n",
    "- should we measure V_in to get an accurate sense of what's going into the water? Is this a way to do the four-probe thing?\n",
    "- $V_{out} / V_{in} = 1+R_f/R_g$\n",
    "- $R_f/((V_{out} / V_{in} - 1)) = R_g$\n",
    "Note that if R_g >>> R_f, we expect that V_out ~= V_in.  We saw that for 80 uS, so that probably means that we need a larger resistor for R_f if we want to measure solutions with such low conductivity values. \n",
    "\n",
    "\n",
    "Let's get a sense for the behavior of the amplification circuit for our chosen value of $R_f = 40K$ ..."
   ]
  },
  {
   "cell_type": "code",
   "execution_count": 2,
   "metadata": {
    "collapsed": true
   },
   "outputs": [],
   "source": [
    "%matplotlib inline \n",
    "# above line allows for showing plots in a cell easily\n",
    "import matplotlib # the main plotting library\n",
    "import numpy as np # allows for arrays\n",
    "import matplotlib.pyplot as plt # getting specific plotting functions"
   ]
  },
  {
   "cell_type": "code",
   "execution_count": 6,
   "metadata": {
    "collapsed": false,
    "scrolled": true
   },
   "outputs": [
    {
     "data": {
      "text/plain": [
       "<matplotlib.text.Text at 0x7f383bd4ed30>"
      ]
     },
     "execution_count": 6,
     "metadata": {},
     "output_type": "execute_result"
    },
    {
     "data": {
      "image/png": "[encoded data removed]",
      "text/plain": [
       "<matplotlib.figure.Figure at 0x7f383bdd7da0>"
      ]
     },
     "metadata": {},
     "output_type": "display_data"
    }
   ],
   "source": [
    "R_water = np.linspace(1, 200, 100)  # 1 .. 200 kOhms\n",
    "V_in = 0.250 # mV\n",
    "Rf = 40 # kOhms\n",
    "y = V_in*(1+(Rf/R_water))\n",
    "plt.plot(R_water,y)\n",
    "plt.xlabel('R_water (kOhms)')\n",
    "plt.ylabel('V_out (Volts)')"
   ]
  },
  {
   "cell_type": "markdown",
   "metadata": {},
   "source": [
    "We put in 0.25 volts, and we hit the op-amp rail (3 Volts) for the highest conductivity solution.  What value of $R_g$ (\"R_water\") would get us to such an amplification (or higher)?"
   ]
  },
  {
   "cell_type": "markdown",
   "metadata": {},
   "source": [
    "### Envelope\n",
    "\n",
    "We need to dial in the proper capacitor and resistor for the envelope follower circuit."
   ]
  },
  {
   "cell_type": "code",
   "execution_count": 37,
   "metadata": {
    "collapsed": false
   },
   "outputs": [
    {
     "data": {
      "text/html": [
       "<iframe width=\"560\" height=\"315\" src=\"//www.youtube.com/embed/bkJ653KVroY?rel=0&amp;showinfo=0\" frameborder=\"0\" allowfullscreen></iframe>"
      ],
      "text/plain": [
       "<IPython.core.display.HTML object>"
      ]
     },
     "execution_count": 37,
     "metadata": {},
     "output_type": "execute_result"
    }
   ],
   "source": [
    "from IPython.display import HTML \n",
    "HTML('<iframe width=\"560\" height=\"315\" src=\"//www.youtube.com/embed/bkJ653KVroY?rel=0&amp;showinfo=0\" frameborder=\"0\" allowfullscreen></iframe>')\n"
   ]
  },
  {
   "cell_type": "markdown",
   "metadata": {},
   "source": [
    "0.1uF:"
   ]
  },
  {
   "cell_type": "code",
   "execution_count": 38,
   "metadata": {
    "collapsed": false
   },
   "outputs": [
    {
     "data": {
      "text/html": [
       "<iframe width=\"560\" height=\"315\" src=\"//www.youtube.com/embed/bq6PUedEDyg?rel=0&amp;showinfo=0\" rel=\"0\" frameborder=\"0\" allowfullscreen></iframe>"
      ],
      "text/plain": [
       "<IPython.core.display.HTML object>"
      ]
     },
     "execution_count": 38,
     "metadata": {},
     "output_type": "execute_result"
    }
   ],
   "source": [
    "from IPython.display import HTML \n",
    "HTML('<iframe width=\"560\" height=\"315\" src=\"//www.youtube.com/embed/bq6PUedEDyg?rel=0&amp;showinfo=0\" rel=\"0\" frameborder=\"0\" allowfullscreen></iframe>')\n"
   ]
  },
  {
   "cell_type": "markdown",
   "metadata": {
    "collapsed": true
   },
   "source": [
    "Notes. "
   ]
  },
  {
   "cell_type": "code",
   "execution_count": null,
   "metadata": {
    "collapsed": true
   },
   "outputs": [],
   "source": []
  }
 ],
 "metadata": {
  "kernelspec": {
   "display_name": "Python 3",
   "language": "python",
   "name": "python3"
  },
  "language_info": {
   "codemirror_mode": {
    "name": "ipython",
    "version": 3
   },
   "file_extension": ".py",
   "mimetype": "text/x-python",
   "name": "python",
   "nbconvert_exporter": "python",
   "pygments_lexer": "ipython3",
   "version": "3.4.3"
  }
 },
 "nbformat": 4,
 "nbformat_minor": 0
}
