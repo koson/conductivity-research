{
 "cells": [
  {
   "cell_type": "markdown",
   "metadata": {},
   "source": [
    "# Notes on conductivity circuit development\n",
    "\n",
    "## 2016-2-2\n",
    "\n",
    "### Wien Oscillator + Charge Pump + ADC Conductivity Circuit\n",
    "\n",
    "*Wien oscillators* are simple circuit configurations that generate sinusoidal output.  For a nice guide to these and related circuits for generating sine wave output, see: \n",
    "\n",
    "- http://www.ti.com/lit/an/sloa060/sloa060.pdf\n",
    "- http://www.electronics-tutorials.ws/oscillator/wien_bridge.html\n",
    "- https://en.wikipedia.org/wiki/Wien_bridge_oscillator\n",
    "- adjustible-frequency wien oscillator: https://www.maximintegrated.com/en/app-notes/index.mvp/id/3846\n",
    "- http://www.learnabout-electronics.org/Oscillators/osc34.php\n",
    "\n",
    "### Prototype\n",
    "\n",
    "Our approach is based entirely on the circuit here: https://github.com/SparkysWidgets/MinieCHW/blob/master/MinieCV1_2.pdf\n",
    "\n",
    "Focusing in on the main part of the circuit:\n",
    "\n",
    "<img src=\"https://raw.githubusercontent.com/p-v-o-s/conductivity-research/master/images/op-amp.png\">\n",
    "\n",
    "Most of our time has been spent building the circuit around the quad op-amp.\n",
    "\n",
    "#### Saturation\n",
    "\n",
    "I'm observing saturation at around 3.8 V.  I've now realized that this is likely the limit of op amp output for this particular op amp.  \n",
    "For the <a href=\"http://www.ti.com/lit/ds/symlink/tl072.pdf\">TL07xx</a> op amp, at VCC=5V, max output is ~ 3V: <img src=\"https://raw.githubusercontent.com/OpenWaterProject/conductivity-research/master/images/TL07MaxPeakOutput.png\">\n",
    "\n",
    "So this explains the saturation.  We might need to go to rail-to-rail (or dial in better input / amplification range).  But in general, we'll need to figure out the appropriate amplification circuitry for various anticipated solution conductivity values. \n",
    "\n",
    "The amplification happens on pins 5,6, and 7 of the op-amp in the circuit above.  Looking at this part of the circuit, we see that the op-amp is in a standard 'non-inverted amplifier' configuration:\n",
    "\n",
    "<img src=\"https://upload.wikimedia.org/wikipedia/commons/6/66/Operational_amplifier_noninverting.svg\">\n",
    "\n",
    "(Image is from a Wikipedia entry on [op-amps](https://en.wikipedia.org/wiki/Operational_amplifier).)\n",
    "\n",
    "The equation for the gain, $G$, is:\n",
    "\n",
    "$G = 1 + R_f/R_g$\n",
    "\n",
    "Where $R_f$ = \"R9\" in our circuit diagram above, and $R_g$ is the resistance provided by the probe in the water.  \n",
    "\n",
    "### Analysis\n",
    "We chose a value of 40KOhm for R9 (\"$R_g$\") in our particular amplifier circuit.  We ended up hitting the \"rail\" (saturation point) of the op amp for all but the least conductive solutions, so it's time to dig into what amplification behavior we expect, given various values of $R_f$. Some notes:\n",
    "\n",
    "- Input voltage is ~ 250 mV.  (This is the voltage out of \"OSCVout\" in the above circuit diagram, i.e. the input to pin 5 on the op-amp.  \n",
    "- **Q**: do we measure the same voltage on pin 6 if we put it on the scope?\n",
    "- Gain G = 1 + R_f/R_w\n",
    "- The R_f we chose was 40K\n",
    "- Testing a 80 uS led to a voltage output of around 0.25 volts\n",
    "- Testing 1400 uS led to a voltage output of around 2.5 volts\n",
    "- should we measure V_in to get an accurate sense of what's going into the water? Is this a way to do the four-probe thing?\n",
    "- $V_{out} / V_{in} = 1+R_f/R_g$\n",
    "- $R_f/((V_{out} / V_{in} - 1)) = R_g$\n",
    "Note that if R_g >>> R_f, we expect that V_out ~= V_in.  We saw that for 80 uS, so that probably means that we need a larger resistor for R_f if we want to measure solutions with such low conductivity values. \n",
    "\n",
    "For the 1400 uS solution, we measured 2.5 volts.  That's a gain G of 10X, since the input was 0.25 volts.\n",
    "So $G=10$, and $R_g=R_f/((G - 1))$.  So R_g equals ..."
   ]
  },
  {
   "cell_type": "code",
   "execution_count": 15,
   "metadata": {
    "collapsed": false
   },
   "outputs": [
    {
     "data": {
      "text/plain": [
       "4.444444444444445"
      ]
     },
     "execution_count": 15,
     "metadata": {},
     "output_type": "execute_result"
    }
   ],
   "source": [
    "R_f=40\n",
    "G=10\n",
    "R_g=R_f/((G - 1)); R_g"
   ]
  },
  {
   "cell_type": "markdown",
   "metadata": {},
   "source": [
    "That's about 4K -- interpreted as the resistance between the terminals on the probe in the water. We'll need to estimate a cell constant."
   ]
  },
  {
   "cell_type": "markdown",
   "metadata": {},
   "source": [
    "### Analyzing the amplifier subcircuit\n",
    "\n",
    "Let's get a sense for the behavior of the amplification circuit for our chosen value of $R_f = 40K$ by plotting the gain $G$ as a function of $R_f$ for a range of resistance values R_water ..."
   ]
  },
  {
   "cell_type": "code",
   "execution_count": 2,
   "metadata": {
    "collapsed": true
   },
   "outputs": [],
   "source": [
    "%matplotlib inline \n",
    "# above line allows for showing plots in a cell easily\n",
    "import matplotlib # the main plotting library\n",
    "import numpy as np # allows for arrays\n",
    "import matplotlib.pyplot as plt # getting specific plotting functions"
   ]
  },
  {
   "cell_type": "code",
   "execution_count": 6,
   "metadata": {
    "collapsed": false,
    "scrolled": true
   },
   "outputs": [
    {
     "data": {
      "text/plain": [
       "<matplotlib.text.Text at 0x7f383bd4ed30>"
      ]
     },
     "execution_count": 6,
     "metadata": {},
     "output_type": "execute_result"
    },
    {
     "data": {
      "image/png": "[encoded data removed]",
      "text/plain": [
       "<matplotlib.figure.Figure at 0x7f383bdd7da0>"
      ]
     },
     "metadata": {},
     "output_type": "display_data"
    }
   ],
   "source": [
    "R_water = np.linspace(1, 200, 100)  # 1 .. 200 kOhms\n",
    "V_in = 0.250 # mV\n",
    "Rf = 40 # kOhms\n",
    "y = V_in*(1+(Rf/R_water))\n",
    "plt.plot(R_water,y)\n",
    "plt.xlabel('R_water (kOhms)')\n",
    "plt.ylabel('V_out (Volts)')"
   ]
  },
  {
   "cell_type": "markdown",
   "metadata": {},
   "source": [
    "We put in 0.25 volts, and we hit the op-amp rail (3 Volts) for the highest conductivity solution.  That's a G value of:\n",
    "\n",
    "What value of $R_g$ (\"R_water\") would get us to such an amplification (or higher)?"
   ]
  },
  {
   "cell_type": "markdown",
   "metadata": {},
   "source": [
    "### Envelope\n",
    "\n",
    "We need to dial in the proper capacitor and resistor for the envelope circuit formed by D1, R10, and C7.  We chose R10 = 100K, and varied C7.\n",
    "\n",
    "Guides to selecting R and C in a diode detector circuit:\n",
    "\n",
    "- http://seniord.ee.iastate.edu/SSOL/RADAR/prjpln99/detector3.html\n",
    "- https://www.st-andrews.ac.uk/~www_pa/Scots_Guide/RadCom/part9/page2.html\n",
    "\n",
    "\n",
    "For C7 = 10uF, the envelope was smooth, but the response was relatively slow:"
   ]
  },
  {
   "cell_type": "code",
   "execution_count": 37,
   "metadata": {
    "collapsed": false
   },
   "outputs": [
    {
     "data": {
      "text/html": [
       "<iframe width=\"560\" height=\"315\" src=\"//www.youtube.com/embed/bkJ653KVroY?rel=0&amp;showinfo=0\" frameborder=\"0\" allowfullscreen></iframe>"
      ],
      "text/plain": [
       "<IPython.core.display.HTML object>"
      ]
     },
     "execution_count": 37,
     "metadata": {},
     "output_type": "execute_result"
    }
   ],
   "source": [
    "from IPython.display import HTML \n",
    "HTML('<iframe width=\"560\" height=\"315\" src=\"//www.youtube.com/embed/bkJ653KVroY?rel=0&amp;showinfo=0\" frameborder=\"0\" allowfullscreen></iframe>')\n"
   ]
  },
  {
   "cell_type": "markdown",
   "metadata": {},
   "source": [
    "For C7=0.1uF, the response was fast, but because of this, the enve"
   ]
  },
  {
   "cell_type": "code",
   "execution_count": 38,
   "metadata": {
    "collapsed": false
   },
   "outputs": [
    {
     "data": {
      "text/html": [
       "<iframe width=\"560\" height=\"315\" src=\"//www.youtube.com/embed/bq6PUedEDyg?rel=0&amp;showinfo=0\" rel=\"0\" frameborder=\"0\" allowfullscreen></iframe>"
      ],
      "text/plain": [
       "<IPython.core.display.HTML object>"
      ]
     },
     "execution_count": 38,
     "metadata": {},
     "output_type": "execute_result"
    }
   ],
   "source": [
    "from IPython.display import HTML \n",
    "HTML('<iframe width=\"560\" height=\"315\" src=\"//www.youtube.com/embed/bq6PUedEDyg?rel=0&amp;showinfo=0\" rel=\"0\" frameborder=\"0\" allowfullscreen></iframe>')\n"
   ]
  },
  {
   "cell_type": "markdown",
   "metadata": {
    "collapsed": true
   },
   "source": [
    "This might imply that 1uF would be a good compromise."
   ]
  },
  {
   "cell_type": "markdown",
   "metadata": {
    "collapsed": true
   },
   "source": [
    "### Time trace\n",
    "\n",
    "In anticipation of collecting CSV data, here's some code for loading a CSV file from a local repo ..."
   ]
  },
  {
   "cell_type": "code",
   "execution_count": 5,
   "metadata": {
    "collapsed": false
   },
   "outputs": [
    {
     "data": {
      "text/plain": [
       "<matplotlib.text.Text at 0x7f46f50dbd30>"
      ]
     },
     "execution_count": 5,
     "metadata": {},
     "output_type": "execute_result"
    },
    {
     "data": {
      "image/png": "[encoded data removed]",
      "text/plain": [
       "<matplotlib.figure.Figure at 0x7f470473c160>"
      ]
     },
     "metadata": {},
     "output_type": "display_data"
    }
   ],
   "source": [
    "%matplotlib inline \n",
    "# above line allows for showing plots in a cell easily\n",
    "import matplotlib # the main plotting library\n",
    "import numpy as np # allows for arrays\n",
    "import matplotlib.pyplot as plt # getting specific plotting functions\n",
    "import urllib # URL import functions\n",
    "import pandas as pd # nice data utilities\n",
    "\n",
    "# below code is for reading from URL\n",
    "#url='https://raw.githubusercontent.com/dwblair/sage_test/master/test3.csv' # the url for the CSV\n",
    "#response = urllib.request.urlopen(url) # treating the URL as a file\n",
    "#a=pd.read_csv(response,names=['t','c']) # reading that file in as a CSV\n",
    "\n",
    "\n",
    "a=pd.read_csv('./data/test3.csv',names=['t','c']) # reading that file in as a CSV\n",
    "t=np.array(a['t']); c=np.array(a['c']); # convert the imported data into arrays\n",
    "plt.plot(t,c);plt.xlabel('time (s)'); plt.ylabel('Hertz') #plot, and add x and y labels"
   ]
  },
  {
   "cell_type": "markdown",
   "metadata": {
    "collapsed": true,
    "slideshow": {
     "slide_type": "-"
    }
   },
   "source": [
    "## Next steps:\n",
    "\n",
    "- Need to figure out what range of R_f will be appropriate for which solutions\n",
    "- How to control R_f? Digital potentiometer? Switch?\n",
    "- Need to modify hardware to all run at 3.3V:  appropriate op-amp and charge pump.\n",
    "- Think about how amplifier on ADC might be used in place of potentiometer"
   ]
  },
  {
   "cell_type": "markdown",
   "metadata": {
    "collapsed": true
   },
   "source": [
    "## Notes\n",
    "\n",
    "\n",
    "- nice reference on op-amps and slew rate: http://www.ti.com/lit/an/sloa039a/sloa039a.pdf <-- also has a current to voltage converter in Fig 15!\n",
    "- http://www.instructables.com/answers/How-to-use-an-op-amp/\n",
    "- http://forum.arduino.cc/index.php?topic=225949.0\n",
    "- http://www.ti.com/ww/en/bobpease/assets/AN-31.pdf\n",
    "- designing amplifier circuits -- avoiding common problems: http://www.analog.com/media/en/technical-documentation/application-notes/AN-937.pdf\n",
    "- guide to op amp amplification: http://www.avrfreaks.net/forum/dc-amplifier-opamp-lm358-problem\n",
    "- how to bias an op-amp: http://ocw.mit.edu/courses/media-arts-and-sciences/mas-836-sensor-technologies-for-interactive-environments-spring-2011/readings/MITMAS_836S11_read02_bias.pdf\n",
    "- connecting op amps to adcs - 'digital conversion' - http://www.analog.com/library/analogDialogue/archives/39-05/Web_Ch3_final.pdf\n",
    "- buffer op amp to adc circuits -- http://www.ti.com/lit/an/sloa098/sloa098.pdf\n",
    "- nice op amp definitions / guide -- http://www.nutsvolts.com/magazine/article/op-amp-cookbook\n",
    "- nice notes on the 741 op amp, with applications: http://www.jamia-physics.net/lecnotes/lab/opamp.pdf"
   ]
  },
  {
   "cell_type": "markdown",
   "metadata": {
    "collapsed": true
   },
   "source": [
    "##  2016-02-07\n",
    "\n",
    "Playing with the RTC.  \n",
    "- Wake up at a specific time\n",
    "- Turn on a switch\n",
    "- Sleep \n",
    "- Repeat\n",
    "- Do first with interrupt pin D2 or D3; then do with D5 \n",
    "\n",
    "\n",
    "1. Wake up from sleep by pulling RTC pin high\n",
    "- Using the Mizraith RTC library: https://github.com/mizraith/RTClib\n",
    "\n",
    "using wake_up -- best option so far\n",
    "\n",
    "http://forum.arduino.cc/index.php?topic=109062.0\n",
    "\n",
    "https://github.com/JChristensen/DS3232RTC/issues/5\n",
    "\n",
    "no pullup resistor needed if pull up set in code\n",
    "\n",
    "wake_up_3:\n",
    "https://gist.github.com/dwblair/ba5572d622e9ba1bd996\n",
    "\n",
    "http://playground.arduino.cc/Learning/ArduinoSleepCode\n",
    "\n",
    "sleep: https://lowpowerlab.com/forum/index.php?topic=286.0\n",
    "\n",
    "with sleepy or low power sketch, gets .4 mA while sleeping -- so that's 220 days. \n",
    "\n",
    "2200 mAh / .4 mA = 230 days\n",
    "\n",
    "n mosfet:\n",
    "https://www.adafruit.com/datasheets/irlb8721pbf.pdf\n",
    "http://bildr.org/2012/03/rfp30n06le-arduino/\n",
    "\n",
    "\n",
    "### final version:\n",
    "https://gist.github.com/dwblair/2076508bafa39d2f31b2\n",
    "which requires: https://github.com/JChristensen/DS3232RTC and https://github.com/rocketscream/Low-Power\n",
    "\n",
    "\n",
    "\n"
   ]
  },
  {
   "cell_type": "markdown",
   "metadata": {},
   "source": [
    "### four probe\n",
    "\n",
    "current sensing:\n",
    "http://www.eetimes.com/document.asp?doc_id=1279415\n",
    "\n",
    "http://www.digikey.com/product-detail/en/ACS712ELCTR-05B-T/620-1189-1-ND/1284606\n",
    "http://www.kr4.us/acs712-breakout.html?gclid=Cj0KEQiA89u1BRDz8enExq7rvN0BEiQAaFCHm5eZ6dk15SzvApmohdP57VAbtY5NLVK2kn9_MWFtexAaAhtR8P8HAQ\n",
    "\n",
    "better:\n",
    "https://www.sparkfun.com/products/12040\n",
    "\n",
    "even better:\n",
    "INA219\n",
    "https://www.adafruit.com/products/904\n",
    "\n",
    "complete front end:\n",
    "http://www.analog.com/media/en/technical-documentation/data-sheets/AD7719.pdf\n",
    "\n",
    "http://www.digikey.com/product-search/en/integrated-circuits-ics/data-acquisition-analog-front-end-afe/2556395\n",
    "\n",
    "http://www.digikey.com/product-detail/en/MCP3911A0-E%2FSS/MCP3911A0-E%2FSS-ND/3046611\n",
    "http://ww1.microchip.com/downloads/en/DeviceDoc/20002286C.pdf\n",
    "\n",
    "http://ww1.microchip.com/downloads/en/DeviceDoc/25048B.pdf\n",
    "\n",
    "http://www.ti.com/lit/ds/symlink/ads1291.pdf\n",
    "\n",
    "MCP3911:\n",
    "http://ww1.microchip.com/downloads/en/DeviceDoc/20002286C.pdf\n",
    "$2\n",
    "http://forum.arduino.cc/index.php?topic=176201.0\n",
    "\n",
    "fancier, similar chip:\n",
    "http://ww1.microchip.com/downloads/en/DeviceDoc/25048B.pdf\n",
    "\n",
    "\n",
    "TI biometrics:\n",
    "http://www.ti.com/lit/ds/symlink/ads1291.pdf\n",
    "\n",
    "\n",
    "analog diagram for ph and conductivity using analog front ends:\n",
    "http://www.analog.com/media/cn/technical-documentation/apm-pdf/adi-water-analysis-solutions_en.pdf\n",
    "\n",
    "https://www.researchgate.net/publication/3094201_A_Four-Terminal_Water-Quality-Monitoring_Conductivity_Sensor\n",
    "\n",
    "full circuit design!\n",
    "http://www.analog.com/media/en/reference-design-documentation/reference-designs/CN0359.pdf\n",
    "http://www.farnell.com/datasheets/1903445.pdf\n",
    "\n",
    "good background:\n",
    "http://www.analytical-chemistry.uoc.gr/files/items/6/618/agwgimometria_2.pdf\n",
    "\n",
    "usgs:\n",
    "http://pubs.usgs.gov/wsp/2311/report.pdf\n",
    "\n",
    "analog sesor conditioning circuits:\n",
    "http://ww1.microchip.com/downloads/en/AppNotes/00990a.pdf\n",
    "\n",
    "\n",
    "thesis: around figure 7, some specific circuits:\n",
    "http://eprints.soton.ac.uk/143801/1.hasCoversheetVersion/Ocean_Sensors_for_Marine_Enviromental_Monitoring.pdf\n",
    "\n",
    "http://www.octiva.net/projects/ppm/\n",
    "\n",
    "https://bitknitting.wordpress.com/\n",
    "\n",
    "https://bitknitting.wordpress.com/category/conductivity/\n",
    "\n",
    "this is the nice circuit:\n",
    "http://www.excelpoint.com.cn/ADIsite/pdf/solutions/adi-demo-system-and-solutions_en_r.pdf\n",
    "\n",
    "woah -- everything!!\n",
    "http://www.analog.com/en/design-center/reference-designs/hardware-reference-design/circuits-from-the-lab/CN0349.html#rd-overview\n",
    "\n",
    "doesn't look too bad:\n",
    "http://www.analog.com/media/en/reference-design-documentation/reference-designs/CN0349.pdf\n",
    "http://www.analog.com/media/en/reference-design-documentation/reference-designs/CN0359.pdf\n",
    "\n",
    "this is huge:\n",
    "http://www.analog.com/media/en/reference-design-documentation/reference-designs/CN0349.pdf\n",
    "\n",
    "\n",
    "### general\n",
    "\n",
    "dyad or dryad --> data repository \n"
   ]
  },
  {
   "cell_type": "code",
   "execution_count": null,
   "metadata": {
    "collapsed": true
   },
   "outputs": [],
   "source": []
  }
 ],
 "metadata": {
  "kernelspec": {
   "display_name": "Python 3",
   "language": "python",
   "name": "python3"
  },
  "language_info": {
   "codemirror_mode": {
    "name": "ipython",
    "version": 3
   },
   "file_extension": ".py",
   "mimetype": "text/x-python",
   "name": "python",
   "nbconvert_exporter": "python",
   "pygments_lexer": "ipython3",
   "version": "3.5.1"
  }
 },
 "nbformat": 4,
 "nbformat_minor": 0
}
