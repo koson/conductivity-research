{
 "cells": [
  {
   "cell_type": "code",
   "execution_count": null,
   "metadata": {
    "collapsed": true
   },
   "outputs": [],
   "source": [
    "%matplotlib inline \n",
    "# above line allows for showing plots in a cell easily\n",
    "import matplotlib # the main plotting library\n",
    "import numpy as np # allows for arrays\n",
    "import matplotlib.pyplot as plt # getting specific plotting functions\n",
    "import urllib # URL import functions\n",
    "import pandas as pd # nice data utilities\n",
    "\n",
    "# below code is for reading from URL\n",
    "#url='https://raw.githubusercontent.com/dwblair/sage_test/master/test3.csv' # the url for the CSV\n",
    "#response = urllib.request.urlopen(url) # treating the URL as a file\n",
    "#a=pd.read_csv(response,names=['t','c']) # reading that file in as a CSV\n",
    "\n",
    "\n",
    "a=pd.read_csv('./data/test3.csv',names=['t','c']) # reading that file in as a CSV\n",
    "t=np.array(a['t']); c=np.array(a['c']); # convert the imported data into arrays\n",
    "plt.plot(t,c);plt.xlabel('time (s)'); plt.ylabel('Hertz') #plot, and add x and y labels"
   ]
  }
 ],
 "metadata": {
  "kernelspec": {
   "display_name": "Python 3",
   "language": "python",
   "name": "python3"
  },
  "language_info": {
   "codemirror_mode": {
    "name": "ipython",
    "version": 3
   },
   "file_extension": ".py",
   "mimetype": "text/x-python",
   "name": "python",
   "nbconvert_exporter": "python",
   "pygments_lexer": "ipython3",
   "version": "3.5.1"
  }
 },
 "nbformat": 4,
 "nbformat_minor": 0
}
