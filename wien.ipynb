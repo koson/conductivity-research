{
 "cells": [
  {
   "cell_type": "markdown",
   "metadata": {},
   "source": [
    "<img src=\"./images/op-amp.png\">\n",
    "\n",
    "The amplification happens on pins 5,6, and 7 of the op-amp in the circuit above.  Looking at this part of the circuit, we see that the op-amp is in a standard 'non-inverted amplifier' configuration:\n",
    "\n",
    "<img src=\"https://upload.wikimedia.org/wikipedia/commons/6/66/Operational_amplifier_noninverting.svg\">\n",
    "\n",
    "(Image is from a Wikipedia entry on [op-amps](https://en.wikipedia.org/wiki/Operational_amplifier).)\n",
    "\n",
    "Our sinusoidal input comes into the amplifier as $V_{in}$ on pin 5; and the amplified output $V_{out}$ on pin 7 is given by:\n",
    "\n",
    "$$V_{out}=GV_{in}$$\n",
    "\n",
    "where $G$ is the gain of the amplifier, and is predicted to be:\n",
    "\n",
    "$$G = 1 + \\frac{R_f}{R_g}$$\n",
    "\n",
    "Where $R_f$ = \"R9\" in our circuit diagram above, and $R_g$ is the resistance provided by the probe in the water.  \n",
    "\n",
    "\n",
    "In this initial experiment, we used $R_f=$ 4.67 KOhms. "
   ]
  },
  {
   "cell_type": "code",
   "execution_count": 6,
   "metadata": {
    "collapsed": false
   },
   "outputs": [],
   "source": [
    "%matplotlib inline \n",
    "# above line allows for showing plots in a cell easily\n",
    "import matplotlib # the main plotting library\n",
    "#matplotlib.style.use('ggplot')\n",
    "import numpy as np # allows for arrays\n",
    "import matplotlib.pyplot as plt # getting specific plotting functions\n",
    "import urllib # URL import functions\n",
    "import pandas as pd # nice data utilities"
   ]
  },
  {
   "cell_type": "markdown",
   "metadata": {},
   "source": [
    "Read in the experimental values ... "
   ]
  },
  {
   "cell_type": "code",
   "execution_count": 35,
   "metadata": {
    "collapsed": false
   },
   "outputs": [],
   "source": [
    "q=pd.read_table('./data/wien_test_2016_02_13.csv', header=0,sep=',',names=['Rg','Venv','Vout']);\n",
    "p=q.sort_values(['Rg'], ascending=[1]);rg_exp=p.Rg*1000"
   ]
  },
  {
   "cell_type": "markdown",
   "metadata": {},
   "source": [
    "Generate the theoretical curve ..."
   ]
  },
  {
   "cell_type": "code",
   "execution_count": 57,
   "metadata": {
    "collapsed": false
   },
   "outputs": [],
   "source": [
    "Rf=46670\n",
    "Rg = np.linspace(500, 47000, 100)  # 1 .. 430 kOhms\n",
    "V_in=0.053  # was measured to be around 0.05 on scope; \n",
    "V_out = V_in*(1+(Rf/Rg))"
   ]
  },
  {
   "cell_type": "markdown",
   "metadata": {},
   "source": [
    "Plot ..."
   ]
  },
  {
   "cell_type": "code",
   "execution_count": 59,
   "metadata": {
    "collapsed": false
   },
   "outputs": [
    {
     "data": {
      "text/plain": [
       "<matplotlib.legend.Legend at 0x7fc170887fd0>"
      ]
     },
     "execution_count": 59,
     "metadata": {},
     "output_type": "execute_result"
    },
    {
     "data": {
      "image/png": "[encoded data removed]",
      "text/plain": [
       "<matplotlib.figure.Figure at 0x7fc170887978>"
      ]
     },
     "metadata": {},
     "output_type": "display_data"
    }
   ],
   "source": [
    "plt.plot(p.Rg*1000,p.Vout,'o',label='V_out');\n",
    "\n",
    "plt.plot(p.Rg*1000,p.Venv,'o', label='V_envelope');\n",
    "\n",
    "plt.plot(Rg,V_out, label='V_out theory');\n",
    "plt.xlabel('$KOhms$')\n",
    "plt.ylabel('$Volts$')\n",
    "plt.ylim(0,1.);\n",
    "plt.xlim(40000,47000);\n",
    "plt.legend()"
   ]
  },
  {
   "cell_type": "code",
   "execution_count": 5,
   "metadata": {
    "collapsed": false,
    "scrolled": true
   },
   "outputs": [
    {
     "data": {
      "text/plain": [
       "<matplotlib.legend.Legend at 0x7fc171082a58>"
      ]
     },
     "execution_count": 5,
     "metadata": {},
     "output_type": "execute_result"
    },
    {
     "data": {
      "image/png": "[encoded data removed]",
      "text/plain": [
       "<matplotlib.figure.Figure at 0x7fc1710cc080>"
      ]
     },
     "metadata": {},
     "output_type": "display_data"
    }
   ],
   "source": [
    "plt.plot(1/(p.Rg*1000),p.Vout,'o',label='V_out');\n",
    "plt.plot(1/(p.Rg*1000),p.Venv,'o', label='V_envelope');\n",
    "plt.plot(1/Rg,V_out, label='V_out theory');\n",
    "plt.xlabel('$KOhms^{-1}$');\n",
    "plt.ylabel('$Volts$')\n",
    "plt.ylim(0,3.5);\n",
    "plt.xlim(0,.003);\n",
    "plt.legend()"
   ]
  },
  {
   "cell_type": "markdown",
   "metadata": {},
   "source": [
    "Discrepancy between V_out_theory and V_out is likely due both to errors in voltage measurement (which was estimated on an oscilloscope) and to an offset / bias in the op-amp itself.  See, for example:\n",
    "\n",
    "- http://www.ti.com/lit/an/sloa059/sloa059.pdf\n",
    "- http://www.analog.com/media/en/training-seminars/tutorials/MT-037.pdf?doc=CN0326.pdf\n",
    "- http://www.allaboutcircuits.com/textbook/semiconductors/chpt-8/op-amp-practical-considerations/\n",
    "\n",
    "This offset is likley not worrisome, as it should be consistent for a given device, and won't prevent calibration.\n",
    "\n",
    "The difference between V_envelope and V_out is expected, and is due to the diode + RC filter circuit, which introduces a forward voltage drop due to diode.  This offset likewise will not affect calibration, but will reduce the amplification range. \n",
    "\n",
    "### Better fit\n",
    "\n",
    "Note that there is expected to be an offset with op-amps [REF? does above indicated this?] between the input voltage and what the op-amp 'sees' when producing a gain.  In the above case, I quickly assessed \"0.053 Volts\" as the sinusoidal input voltage on the oscilloscope; but not what happens if we shift it to 0.043:"
   ]
  },
  {
   "cell_type": "code",
   "execution_count": 6,
   "metadata": {
    "collapsed": false
   },
   "outputs": [
    {
     "data": {
      "text/plain": [
       "<matplotlib.legend.Legend at 0x7fc170fa9cc0>"
      ]
     },
     "execution_count": 6,
     "metadata": {},
     "output_type": "execute_result"
    },
    {
     "data": {
      "image/png": "[encoded data removed]",
      "text/plain": [
       "<matplotlib.figure.Figure at 0x7fc170fa9cf8>"
      ]
     },
     "metadata": {},
     "output_type": "display_data"
    }
   ],
   "source": [
    "Rf=46670\n",
    "Rg = np.linspace(500, 7500, 100)  # 1 .. 430 kOhms\n",
    "V_in=0.043  # was measured to be around 0.05 on scope; try .043 to produce a better fit\n",
    "V_out = V_in*(1+(Rf/Rg))\n",
    "\n",
    "plt.plot(p.Rg*1000,p.Vout,'o',label='V_out');\n",
    "\n",
    "plt.plot(p.Rg*1000,p.Venv,'o', label='V_envelope');\n",
    "\n",
    "plt.plot(Rg,V_out, label='V_out theory');\n",
    "plt.xlabel('$KOhms$')\n",
    "plt.ylabel('$Volts$')\n",
    "plt.ylim(0,3.5);\n",
    "plt.xlim(400,4700);\n",
    "plt.legend()"
   ]
  },
  {
   "cell_type": "code",
   "execution_count": 7,
   "metadata": {
    "collapsed": false
   },
   "outputs": [
    {
     "data": {
      "text/plain": [
       "<matplotlib.legend.Legend at 0x7fc170f25f60>"
      ]
     },
     "execution_count": 7,
     "metadata": {},
     "output_type": "execute_result"
    },
    {
     "data": {
      "image/png": "[encoded data removed]",
      "text/plain": [
       "<matplotlib.figure.Figure at 0x7fc170fdd2e8>"
      ]
     },
     "metadata": {},
     "output_type": "display_data"
    }
   ],
   "source": [
    "plt.plot(1/(p.Rg*1000),p.Vout,'o',label='V_out');\n",
    "plt.plot(1/(p.Rg*1000),p.Venv,'o', label='V_envelope');\n",
    "plt.plot(1/Rg,V_out, label='V_out theory');\n",
    "plt.xlabel('$KOhms^{-1}$');\n",
    "plt.ylabel('$Volts$')\n",
    "plt.ylim(0,3.5);\n",
    "plt.xlim(0,.003);\n",
    "plt.legend()"
   ]
  },
  {
   "cell_type": "markdown",
   "metadata": {},
   "source": [
    "This shift in the assumed V_in allowed us to fit V_out nicely.  The output of the scope for V_out is linear in $1/R_g$; it follows the op-amp gain equation, and V_in is what shifts the line to fit the curve.  This is consistent with the idea that the op-amp introduces a simple voltage offset into V_out.\n",
    "\n",
    "V_env, the output of the envelope follower, also appears to be linear.  This should be assessed with further meaurements (these original measurements were hurried), and reading about the expected behavior of envelope follower circuits."
   ]
  },
  {
   "cell_type": "markdown",
   "metadata": {},
   "source": [
    "# NB\n",
    "\n",
    "Great note on best practices around using op amps in sensor applications, and maximizing signal:\n",
    "\n",
    "- http://www.nxp.com/files/sensors/doc/app_note/AN1525.pdf\n",
    "\n",
    "\n",
    "## Next steps\n",
    "\n",
    "- need to figure out what value of $R_f$ will be appropriate for tap water\n",
    "- look into switch IC for $R_f$ for various conductivity ranges\n",
    "- we might try creating an ideal diode configuration using the op-amp in the original design\n",
    "- what is op-amp 'latch up' -- and is it a worry?"
   ]
  },
  {
   "cell_type": "code",
   "execution_count": 8,
   "metadata": {
    "collapsed": false
   },
   "outputs": [
    {
     "data": {
      "text/plain": [
       "[<matplotlib.lines.Line2D at 0x7fc170e49390>]"
      ]
     },
     "execution_count": 8,
     "metadata": {},
     "output_type": "execute_result"
    },
    {
     "data": {
      "image/png": "[encoded data removed]",
      "text/plain": [
       "<matplotlib.figure.Figure at 0x7fc170fefa20>"
      ]
     },
     "metadata": {},
     "output_type": "display_data"
    }
   ],
   "source": [
    "Rf=8E6\n",
    "Rg = np.linspace(1E6, 3E6, 1000)  # 1 .. 430 kOhms\n",
    "V_in=0.053  \n",
    "V_out = V_in*(1+(Rf/Rg))\n",
    "plt.plot(Rg,V_out, label='V_out theory')"
   ]
  },
  {
   "cell_type": "code",
   "execution_count": 9,
   "metadata": {
    "collapsed": false
   },
   "outputs": [
    {
     "data": {
      "text/plain": [
       "[<matplotlib.lines.Line2D at 0x7fc170e19128>]"
      ]
     },
     "execution_count": 9,
     "metadata": {},
     "output_type": "execute_result"
    },
    {
     "data": {
      "image/png": "[encoded data removed]",
      "text/plain": [
       "<matplotlib.figure.Figure at 0x7fc170e89ef0>"
      ]
     },
     "metadata": {},
     "output_type": "display_data"
    }
   ],
   "source": [
    "Rf=2000\n",
    "Rg = np.linspace(1E6, 3E6, 1000)  # 1 .. 430 kOhms\n",
    "V_in=0.053  \n",
    "V_out = V_in*(1+(Rf/Rg))\n",
    "plt.plot(Rg,V_out, label='V_out theory')"
   ]
  },
  {
   "cell_type": "code",
   "execution_count": 10,
   "metadata": {
    "collapsed": false
   },
   "outputs": [
    {
     "data": {
      "text/plain": [
       "2.0000000000000003e-06"
      ]
     },
     "execution_count": 10,
     "metadata": {},
     "output_type": "execute_result"
    }
   ],
   "source": [
    ".00004*.05"
   ]
  },
  {
   "cell_type": "markdown",
   "metadata": {},
   "source": [
    "## Test of ADC\n",
    "\n",
    "vary measured resistance Rg, and measure the voltage output\n",
    "\n",
    "used adafruit 12bit ads1015\n",
    "\n",
    "setting: GAIN_ONE --> 1 bit = 2mV\n",
    "\n",
    "test code is here:\n",
    "https://gist.github.com/dwblair/6e55cf06e66442463368\n",
    "\n"
   ]
  },
  {
   "cell_type": "code",
   "execution_count": 60,
   "metadata": {
    "collapsed": false
   },
   "outputs": [
    {
     "data": {
      "image/png": "[encoded data removed]",
      "text/plain": [
       "<matplotlib.figure.Figure at 0x7fc1709578d0>"
      ]
     },
     "metadata": {},
     "output_type": "display_data"
    }
   ],
   "source": [
    "s=pd.read_table('./data/adc_test1.csv', header=0,sep=',',names=['Venv']); plt.plot(s.Venv);"
   ]
  },
  {
   "cell_type": "code",
   "execution_count": 12,
   "metadata": {
    "collapsed": false
   },
   "outputs": [
    {
     "data": {
      "text/plain": [
       "(0, 100)"
      ]
     },
     "execution_count": 12,
     "metadata": {},
     "output_type": "execute_result"
    },
    {
     "data": {
      "image/png": "[encoded data removed]",
      "text/plain": [
       "<matplotlib.figure.Figure at 0x7fc170d909b0>"
      ]
     },
     "metadata": {},
     "output_type": "display_data"
    }
   ],
   "source": [
    "plt.plot(s.Venv); plt.xlim(0,100)"
   ]
  },
  {
   "cell_type": "code",
   "execution_count": 13,
   "metadata": {
    "collapsed": false
   },
   "outputs": [
    {
     "data": {
      "text/plain": [
       "99.799999999999997"
      ]
     },
     "execution_count": 13,
     "metadata": {},
     "output_type": "execute_result"
    }
   ],
   "source": [
    "v1=np.average(s.Venv[0:20]);v1"
   ]
  },
  {
   "cell_type": "code",
   "execution_count": 14,
   "metadata": {
    "collapsed": false
   },
   "outputs": [
    {
     "data": {
      "image/png": "[encoded data removed]",
      "text/plain": [
       "<matplotlib.figure.Figure at 0x7fc170d757b8>"
      ]
     },
     "metadata": {},
     "output_type": "display_data"
    }
   ],
   "source": [
    "plt.plot(s.Venv); plt.xlim(30,140); "
   ]
  },
  {
   "cell_type": "code",
   "execution_count": 15,
   "metadata": {
    "collapsed": false
   },
   "outputs": [
    {
     "data": {
      "text/plain": [
       "135.90000000000001"
      ]
     },
     "execution_count": 15,
     "metadata": {},
     "output_type": "execute_result"
    }
   ],
   "source": [
    "v2=np.average(s.Venv[80:110]);v2"
   ]
  },
  {
   "cell_type": "code",
   "execution_count": 16,
   "metadata": {
    "collapsed": false
   },
   "outputs": [
    {
     "data": {
      "image/png": "[encoded data removed]",
      "text/plain": [
       "<matplotlib.figure.Figure at 0x7fc170d44e48>"
      ]
     },
     "metadata": {},
     "output_type": "display_data"
    }
   ],
   "source": [
    "plt.plot(s.Venv); plt.xlim(170,230); "
   ]
  },
  {
   "cell_type": "code",
   "execution_count": 17,
   "metadata": {
    "collapsed": false
   },
   "outputs": [
    {
     "data": {
      "text/plain": [
       "330.63636363636363"
      ]
     },
     "execution_count": 17,
     "metadata": {},
     "output_type": "execute_result"
    }
   ],
   "source": [
    "v3=np.average(s.Venv[198:220]);v3"
   ]
  },
  {
   "cell_type": "code",
   "execution_count": 18,
   "metadata": {
    "collapsed": false
   },
   "outputs": [
    {
     "data": {
      "image/png": "[encoded data removed]",
      "text/plain": [
       "<matplotlib.figure.Figure at 0x7fc170cba7b8>"
      ]
     },
     "metadata": {},
     "output_type": "display_data"
    }
   ],
   "source": [
    "plt.plot(s.Venv); plt.xlim(250,350); "
   ]
  },
  {
   "cell_type": "code",
   "execution_count": 19,
   "metadata": {
    "collapsed": false
   },
   "outputs": [
    {
     "data": {
      "text/plain": [
       "233.0"
      ]
     },
     "execution_count": 19,
     "metadata": {},
     "output_type": "execute_result"
    }
   ],
   "source": [
    "v4=np.average(s.Venv[275:290]);v4"
   ]
  },
  {
   "cell_type": "code",
   "execution_count": 20,
   "metadata": {
    "collapsed": false
   },
   "outputs": [
    {
     "data": {
      "image/png": "[encoded data removed]",
      "text/plain": [
       "<matplotlib.figure.Figure at 0x7fc170c54630>"
      ]
     },
     "metadata": {},
     "output_type": "display_data"
    }
   ],
   "source": [
    "plt.plot(s.Venv); plt.xlim(400,600); "
   ]
  },
  {
   "cell_type": "code",
   "execution_count": 61,
   "metadata": {
    "collapsed": false
   },
   "outputs": [
    {
     "data": {
      "text/plain": [
       "180.58571428571429"
      ]
     },
     "execution_count": 61,
     "metadata": {},
     "output_type": "execute_result"
    }
   ],
   "source": [
    "v5=np.average(s.Venv[450:520]);v5"
   ]
  },
  {
   "cell_type": "code",
   "execution_count": 62,
   "metadata": {
    "collapsed": false
   },
   "outputs": [
    {
     "data": {
      "text/plain": [
       "array([ 0.1996    ,  0.2718    ,  0.66127273,  0.466     ,  0.36117143,\n",
       "        1.        ,  0.6       ,  0.8       ,  0.9       ,  0.15      ,\n",
       "        0.168     ,  0.132     ,  0.128     ,  1.48      ,  1.18      ,\n",
       "        1.7       ])"
      ]
     },
     "execution_count": 62,
     "metadata": {},
     "output_type": "execute_result"
    }
   ],
   "source": [
    "v6=500;v7=300;v8=400;v9=450;v10=75;v11=84;v12=66;v13=64;v14=740;v15=590;v16=850\n",
    "Vbit=[v1,v2,v3,v4,v5,v6,v7,v8,v9,v10,v11,v12,v13,v14,v15,v16];V = np.array(Vbit)*.002;V"
   ]
  },
  {
   "cell_type": "code",
   "execution_count": 63,
   "metadata": {
    "collapsed": false
   },
   "outputs": [
    {
     "data": {
      "text/plain": [
       "[3870.0,\n",
       " 3172.0,\n",
       " 1890.0,\n",
       " 2351.0,\n",
       " 2750.0,\n",
       " 1403.0,\n",
       " 2020.0,\n",
       " 1662.0,\n",
       " 1519.0,\n",
       " 4730.0,\n",
       " 4300.0,\n",
       " 5720.0,\n",
       " 7610.0,\n",
       " 1045.0,\n",
       " 1247.0,\n",
       " 931.0]"
      ]
     },
     "execution_count": 63,
     "metadata": {},
     "output_type": "execute_result"
    }
   ],
   "source": [
    "Rg=[3.87E3,3.172E3,1.89E3,2.351E3,2.75E3,1.403E3,2.02E3,1.662E3,1.519E3,4.73E3,4.3E3,5.72E3,7.61E3,1.045E3,1.247E3,0.931E3];Rg"
   ]
  },
  {
   "cell_type": "code",
   "execution_count": 64,
   "metadata": {
    "collapsed": false
   },
   "outputs": [
    {
     "data": {
      "text/plain": [
       "{'Rg': [3870.0,\n",
       "  3172.0,\n",
       "  1890.0,\n",
       "  2351.0,\n",
       "  2750.0,\n",
       "  1403.0,\n",
       "  2020.0,\n",
       "  1662.0,\n",
       "  1519.0,\n",
       "  4730.0,\n",
       "  4300.0,\n",
       "  5720.0,\n",
       "  7610.0,\n",
       "  1045.0,\n",
       "  1247.0,\n",
       "  931.0],\n",
       " 'V': array([ 0.1996    ,  0.2718    ,  0.66127273,  0.466     ,  0.36117143,\n",
       "         1.        ,  0.6       ,  0.8       ,  0.9       ,  0.15      ,\n",
       "         0.168     ,  0.132     ,  0.128     ,  1.48      ,  1.18      ,\n",
       "         1.7       ])}"
      ]
     },
     "execution_count": 64,
     "metadata": {},
     "output_type": "execute_result"
    }
   ],
   "source": [
    "d={'Rg': Rg, 'V':V};d"
   ]
  },
  {
   "cell_type": "code",
   "execution_count": 65,
   "metadata": {
    "collapsed": false
   },
   "outputs": [
    {
     "data": {
      "text/html": [
       "<div>\n",
       "<table border=\"1\" class=\"dataframe\">\n",
       "  <thead>\n",
       "    <tr style=\"text-align: right;\">\n",
       "      <th></th>\n",
       "      <th>Rg</th>\n",
       "      <th>V</th>\n",
       "    </tr>\n",
       "  </thead>\n",
       "  <tbody>\n",
       "    <tr>\n",
       "      <th>0</th>\n",
       "      <td>3870</td>\n",
       "      <td>0.199600</td>\n",
       "    </tr>\n",
       "    <tr>\n",
       "      <th>1</th>\n",
       "      <td>3172</td>\n",
       "      <td>0.271800</td>\n",
       "    </tr>\n",
       "    <tr>\n",
       "      <th>2</th>\n",
       "      <td>1890</td>\n",
       "      <td>0.661273</td>\n",
       "    </tr>\n",
       "    <tr>\n",
       "      <th>3</th>\n",
       "      <td>2351</td>\n",
       "      <td>0.466000</td>\n",
       "    </tr>\n",
       "    <tr>\n",
       "      <th>4</th>\n",
       "      <td>2750</td>\n",
       "      <td>0.361171</td>\n",
       "    </tr>\n",
       "    <tr>\n",
       "      <th>5</th>\n",
       "      <td>1403</td>\n",
       "      <td>1.000000</td>\n",
       "    </tr>\n",
       "    <tr>\n",
       "      <th>6</th>\n",
       "      <td>2020</td>\n",
       "      <td>0.600000</td>\n",
       "    </tr>\n",
       "    <tr>\n",
       "      <th>7</th>\n",
       "      <td>1662</td>\n",
       "      <td>0.800000</td>\n",
       "    </tr>\n",
       "    <tr>\n",
       "      <th>8</th>\n",
       "      <td>1519</td>\n",
       "      <td>0.900000</td>\n",
       "    </tr>\n",
       "    <tr>\n",
       "      <th>9</th>\n",
       "      <td>4730</td>\n",
       "      <td>0.150000</td>\n",
       "    </tr>\n",
       "    <tr>\n",
       "      <th>10</th>\n",
       "      <td>4300</td>\n",
       "      <td>0.168000</td>\n",
       "    </tr>\n",
       "    <tr>\n",
       "      <th>11</th>\n",
       "      <td>5720</td>\n",
       "      <td>0.132000</td>\n",
       "    </tr>\n",
       "    <tr>\n",
       "      <th>12</th>\n",
       "      <td>7610</td>\n",
       "      <td>0.128000</td>\n",
       "    </tr>\n",
       "    <tr>\n",
       "      <th>13</th>\n",
       "      <td>1045</td>\n",
       "      <td>1.480000</td>\n",
       "    </tr>\n",
       "    <tr>\n",
       "      <th>14</th>\n",
       "      <td>1247</td>\n",
       "      <td>1.180000</td>\n",
       "    </tr>\n",
       "    <tr>\n",
       "      <th>15</th>\n",
       "      <td>931</td>\n",
       "      <td>1.700000</td>\n",
       "    </tr>\n",
       "  </tbody>\n",
       "</table>\n",
       "</div>"
      ],
      "text/plain": [
       "      Rg         V\n",
       "0   3870  0.199600\n",
       "1   3172  0.271800\n",
       "2   1890  0.661273\n",
       "3   2351  0.466000\n",
       "4   2750  0.361171\n",
       "5   1403  1.000000\n",
       "6   2020  0.600000\n",
       "7   1662  0.800000\n",
       "8   1519  0.900000\n",
       "9   4730  0.150000\n",
       "10  4300  0.168000\n",
       "11  5720  0.132000\n",
       "12  7610  0.128000\n",
       "13  1045  1.480000\n",
       "14  1247  1.180000\n",
       "15   931  1.700000"
      ]
     },
     "execution_count": 65,
     "metadata": {},
     "output_type": "execute_result"
    }
   ],
   "source": [
    "z=pd.DataFrame(d);z"
   ]
  },
  {
   "cell_type": "code",
   "execution_count": 66,
   "metadata": {
    "collapsed": false
   },
   "outputs": [
    {
     "data": {
      "text/html": [
       "<div>\n",
       "<table border=\"1\" class=\"dataframe\">\n",
       "  <thead>\n",
       "    <tr style=\"text-align: right;\">\n",
       "      <th></th>\n",
       "      <th>Rg</th>\n",
       "      <th>V</th>\n",
       "    </tr>\n",
       "  </thead>\n",
       "  <tbody>\n",
       "    <tr>\n",
       "      <th>15</th>\n",
       "      <td>931</td>\n",
       "      <td>1.700000</td>\n",
       "    </tr>\n",
       "    <tr>\n",
       "      <th>13</th>\n",
       "      <td>1045</td>\n",
       "      <td>1.480000</td>\n",
       "    </tr>\n",
       "    <tr>\n",
       "      <th>14</th>\n",
       "      <td>1247</td>\n",
       "      <td>1.180000</td>\n",
       "    </tr>\n",
       "    <tr>\n",
       "      <th>5</th>\n",
       "      <td>1403</td>\n",
       "      <td>1.000000</td>\n",
       "    </tr>\n",
       "    <tr>\n",
       "      <th>8</th>\n",
       "      <td>1519</td>\n",
       "      <td>0.900000</td>\n",
       "    </tr>\n",
       "    <tr>\n",
       "      <th>7</th>\n",
       "      <td>1662</td>\n",
       "      <td>0.800000</td>\n",
       "    </tr>\n",
       "    <tr>\n",
       "      <th>2</th>\n",
       "      <td>1890</td>\n",
       "      <td>0.661273</td>\n",
       "    </tr>\n",
       "    <tr>\n",
       "      <th>6</th>\n",
       "      <td>2020</td>\n",
       "      <td>0.600000</td>\n",
       "    </tr>\n",
       "    <tr>\n",
       "      <th>3</th>\n",
       "      <td>2351</td>\n",
       "      <td>0.466000</td>\n",
       "    </tr>\n",
       "    <tr>\n",
       "      <th>4</th>\n",
       "      <td>2750</td>\n",
       "      <td>0.361171</td>\n",
       "    </tr>\n",
       "    <tr>\n",
       "      <th>1</th>\n",
       "      <td>3172</td>\n",
       "      <td>0.271800</td>\n",
       "    </tr>\n",
       "    <tr>\n",
       "      <th>0</th>\n",
       "      <td>3870</td>\n",
       "      <td>0.199600</td>\n",
       "    </tr>\n",
       "    <tr>\n",
       "      <th>10</th>\n",
       "      <td>4300</td>\n",
       "      <td>0.168000</td>\n",
       "    </tr>\n",
       "    <tr>\n",
       "      <th>9</th>\n",
       "      <td>4730</td>\n",
       "      <td>0.150000</td>\n",
       "    </tr>\n",
       "    <tr>\n",
       "      <th>11</th>\n",
       "      <td>5720</td>\n",
       "      <td>0.132000</td>\n",
       "    </tr>\n",
       "    <tr>\n",
       "      <th>12</th>\n",
       "      <td>7610</td>\n",
       "      <td>0.128000</td>\n",
       "    </tr>\n",
       "  </tbody>\n",
       "</table>\n",
       "</div>"
      ],
      "text/plain": [
       "      Rg         V\n",
       "15   931  1.700000\n",
       "13  1045  1.480000\n",
       "14  1247  1.180000\n",
       "5   1403  1.000000\n",
       "8   1519  0.900000\n",
       "7   1662  0.800000\n",
       "2   1890  0.661273\n",
       "6   2020  0.600000\n",
       "3   2351  0.466000\n",
       "4   2750  0.361171\n",
       "1   3172  0.271800\n",
       "0   3870  0.199600\n",
       "10  4300  0.168000\n",
       "9   4730  0.150000\n",
       "11  5720  0.132000\n",
       "12  7610  0.128000"
      ]
     },
     "execution_count": 66,
     "metadata": {},
     "output_type": "execute_result"
    }
   ],
   "source": [
    "p=z.sort_values(['Rg'], ascending=[1]);p"
   ]
  },
  {
   "cell_type": "code",
   "execution_count": 67,
   "metadata": {
    "collapsed": false
   },
   "outputs": [
    {
     "data": {
      "text/plain": [
       "<matplotlib.text.Text at 0x7fc170747198>"
      ]
     },
     "execution_count": 67,
     "metadata": {},
     "output_type": "execute_result"
    },
    {
     "data": {
      "image/png": "[encoded data removed]",
      "text/plain": [
       "<matplotlib.figure.Figure at 0x7fc17078a438>"
      ]
     },
     "metadata": {},
     "output_type": "display_data"
    }
   ],
   "source": [
    "plt.plot(1/p.Rg,p.V,'o');plt.ylim(0,1.1);plt.xlabel('1/Rg (Ohms^-1)');plt.ylabel('V_env (Volts)')\n"
   ]
  },
  {
   "cell_type": "code",
   "execution_count": 76,
   "metadata": {
    "collapsed": false
   },
   "outputs": [
    {
     "data": {
      "text/plain": [
       "<matplotlib.legend.Legend at 0x7fc170702a20>"
      ]
     },
     "execution_count": 76,
     "metadata": {},
     "output_type": "execute_result"
    },
    {
     "data": {
      "image/png": "[encoded data removed]",
      "text/plain": [
       "<matplotlib.figure.Figure at 0x7fc170702208>"
      ]
     },
     "metadata": {},
     "output_type": "display_data"
    }
   ],
   "source": [
    "plt.plot(p.Rg,p.V,'o',label='V_env');plt.ylim(0,1.1);plt.xlabel('Rg (Ohms)');plt.ylabel('V_env (Volts)')\n",
    "\n",
    "Rf=46670\n",
    "Rg = np.linspace(1000, 6000, 100)  # 1 .. 430 kOhms\n",
    "V_in=0.053  # was measured to be around 0.05 on scope; \n",
    "V_out = V_in*(1+(Rf/Rg))\n",
    "\n",
    "plt.plot(Rg,V_out, label='V_out theory');\n",
    "plt.xlabel('$KOhms$')\n",
    "plt.ylabel('$Volts$')\n",
    "plt.ylim(0,3.5);\n",
    "plt.xlim(700,6000);\n",
    "plt.legend()"
   ]
  },
  {
   "cell_type": "code",
   "execution_count": 49,
   "metadata": {
    "collapsed": false
   },
   "outputs": [
    {
     "data": {
      "text/plain": [
       "0.13"
      ]
     },
     "execution_count": 49,
     "metadata": {},
     "output_type": "execute_result"
    }
   ],
   "source": [
    "65*.002 #we got around 65 bits, and the ADC resolution is 2 mV. So voltage out is:"
   ]
  },
  {
   "cell_type": "markdown",
   "metadata": {},
   "source": [
    "## ADC analysis\n",
    "\n",
    "This asymptotic voltage at larger Rg does *not* seem to be due to the op-amp.  It seems to be a feature of the ADC.\n",
    "\n",
    "Note: 'Choosing an op-amp and adc for minimum offset': http://www.ti.com/lit/an/slaa064/slaa064.pdf\n",
    "\n",
    "And: 'Data acquisition circuits': http://cds.linear.com/docs/en/application-note/an62.pdf\n",
    "\n",
    "Comment:  we know that it saturates when V_out approaches 3.8 volts.  This would be as Rg gets smaller --> 1/Rg gets bigger, since V_out = V_in * (1 + Rf/Rg), and Rf is fixed at 47K.  So that saturation will happen towards the right of the above curve.  \n",
    "\n",
    "The saturation on the left side (large Rg) is occurring at around 1/Rg = .0002 ..."
   ]
  },
  {
   "cell_type": "code",
   "execution_count": 30,
   "metadata": {
    "collapsed": false
   },
   "outputs": [
    {
     "data": {
      "text/plain": [
       "5000.0"
      ]
     },
     "execution_count": 30,
     "metadata": {},
     "output_type": "execute_result"
    }
   ],
   "source": [
    "Rg_sat = 1/.0002;Rg_sat"
   ]
  },
  {
   "cell_type": "markdown",
   "metadata": {},
   "source": [
    "I.e. around Rg=5K.  This is odd, as that is still a gain of 1+47K/5K = 10. So we'd expect that our Vout should be about .5 Volts, and Venv less than but close to it. "
   ]
  },
  {
   "cell_type": "code",
   "execution_count": 31,
   "metadata": {
    "collapsed": false
   },
   "outputs": [
    {
     "data": {
      "text/plain": [
       "0.17400000000000002"
      ]
     },
     "execution_count": 31,
     "metadata": {},
     "output_type": "execute_result"
    }
   ],
   "source": [
    "87*.002"
   ]
  },
  {
   "cell_type": "code",
   "execution_count": 32,
   "metadata": {
    "collapsed": false
   },
   "outputs": [
    {
     "data": {
      "image/png": "[encoded data removed]",
      "text/plain": [
       "<matplotlib.figure.Figure at 0x7fc170e262b0>"
      ]
     },
     "metadata": {},
     "output_type": "display_data"
    }
   ],
   "source": [
    "Rf=46670\n",
    "Rg = np.linspace(1, 7500, 100)  # 1 .. 430 kOhms\n",
    "V_in=0.053  # was measured to be around 0.05 on scope; \n",
    "V_out = V_in*(1+(Rf/Rg))\n",
    "\n",
    "plt.plot(1/Rg,V_out, label='V_out theory');\n"
   ]
  },
  {
   "cell_type": "markdown",
   "metadata": {},
   "source": [
    "Ah ... I changed Rg and saw a change on the multimeter output but not on the ADC ... so I'm running into some lower limit of the ADC.  This is something to check. "
   ]
  },
  {
   "cell_type": "markdown",
   "metadata": {},
   "source": [
    "Voltage reference diodes : LM4040DIZ-4.1/NOPB (5)"
   ]
  },
  {
   "cell_type": "markdown",
   "metadata": {},
   "source": [
    "For now the easiest thing is probably to use the 16 bit adc with a gain of one.  This gives a voltage range of 0 to 4V (I know I won't exceed 3.8V because of op amp saturation), with a resolution of 0.125 mV. \n",
    "\n",
    "Test code is here:\n",
    "\n",
    "https://gist.github.com/dwblair/f43bd196642c289239a0"
   ]
  },
  {
   "cell_type": "markdown",
   "metadata": {},
   "source": [
    "So at this point, we might just start taking guesses at the proper range for Rf, given the likely range of tap water resistivity via our makeshift probe. As long as we set up the ADC and op-amp combo so that the voltage output won't ever go above the ADC limits no matter how low the resistance, then we can play.\n"
   ]
  },
  {
   "cell_type": "code",
   "execution_count": 33,
   "metadata": {
    "collapsed": false
   },
   "outputs": [
    {
     "data": {
      "text/plain": [
       "3787.5"
      ]
     },
     "execution_count": 33,
     "metadata": {},
     "output_type": "execute_result"
    }
   ],
   "source": [
    "30300*.125"
   ]
  },
  {
   "cell_type": "markdown",
   "metadata": {},
   "source": [
    "Nice.  I tried to max out the circuit by tuning Rg as low as I could.  The 16 bit ADC maxed out at about 30300, and at 0.125 mV per bit, that's 3.788 volts -- which is about where I'd seen the op-amp max out when testing with the oscilloscope.  \n",
    "\n",
    "I also pulled out Rf, so that it's easier to replace with other options."
   ]
  },
  {
   "cell_type": "markdown",
   "metadata": {},
   "source": [
    "So: what accounts for the drop off at higer resistance? need to check this on multimeter or scope "
   ]
  },
  {
   "cell_type": "markdown",
   "metadata": {
    "collapsed": true
   },
   "source": [
    "### Update\n",
    "\n",
    "The above behavior of the ADC is not so mysterious.\n",
    "\n",
    "We saw above in \"ADC Analysis\" that for R_g = 5K, we started to settle into about 65 on the 12 bit ADC.  Since the 12 bit ADC was on a gain setting of one, wherein the resolution is 2 mV per bit, this yields 0.002 * 65 = 0.13 volts when R_g~5K. \n",
    "\n",
    "The op-amp equation is: $$V_{out} = V_{in}(G + R_f / R_g)$$\n",
    "\n",
    "We know that $V_{in}$ is about 0.053 volts.\n",
    "\n",
    "R_f is 48K.\n",
    "\n",
    "So the gain G, when R_g ~ 5K, is:\n",
    "\n",
    "$G=1 + R_f/R_g = 1+48/5 = 10.6$\n",
    "\n",
    "This means that we expect $V_{out} = G V_{in} = 10.6*0.053 = .56 \n",
    "\n",
    "We see this in the theoretical curve for $V_{out}$.\n",
    "\n",
    "But: what we are measuring now with the ADC is $V_env$, which is $V_{out}$ + a diode-based voltage divider, with a forward voltage drop. This likely accounts for the difference between the expected $V_in$ and $V_out$, and is consistent with what was observed earlier using the oscilloscope, in the first analyses in this notebook.  Thus: the output of the ADC is likely fine.\n",
    "\n",
    "## Notes on envelope follower\n",
    "\n",
    "We are using the envelope follower here:\n",
    "\n",
    "https://wiki.analog.com/university/courses/electronics/text/chapter-7#envelope_detector\n",
    "\n",
    "(Aside: this looks like a great online course from Analog devices)\n",
    "\n",
    "(The diode used is the IN4001 (http://www.diodes.com/_files/datasheets/ds28002.pdf), which has a typical forward voltage drop, used on its own, of about .7 volts.)\n",
    "\n",
    "This might point to the utility of using a 'super diode' or other configuration\n",
    "\n",
    "There is a nice discussion of the various options, here:\n",
    "\n",
    "Reference: https://wiki.analog.com/university/courses/electronics/text/chapter-7\n",
    "\n",
    "Also interesting: logarithmic amplification -- might be good for allowing for larger range. \n",
    "\n",
    "Precision envelope detector:\n",
    "\n",
    "https://en.wikipedia.org/wiki/Envelope_detector\n",
    "\n",
    "Argument for doing all this with analog circuits rather than digital:\n",
    "http://www.planetanalog.com/author.asp?section_id=396&doc_id=562072\n",
    "\n",
    "considerations:\n",
    "http://www.eng.auburn.edu/~roppeth/courses/TIMS-manuals-r5/TIMS%20Experiment%20Manuals/Student_Text/Vol-A1/a1-06.pdf\n",
    "\n",
    "## Next steps re: envelope detector\n",
    "\n",
    "Very nice discussion of using precision envelope detector, and how to address related issues:\n",
    "\n",
    "http://www.ee.iitm.ac.in/vlsi/courses/ec330_2013/spectrumanalyzer\n",
    "\n",
    "Look especially at the \"rectifier + filter\" circuit, which is referenced in wikipedia as a good way to proceed.\n",
    "\n",
    "Expectation -- this will reduce the difference between $V_{out}$ and $V_{env}$, and likely increase our dynamic range in the circuit. Since we'll likely be dropping things down from 5V to 3V in this circuit, a simple envelope detector with typical forward voltage drop will very much reduce our range.\n",
    "\n",
    "Meanwhile, we can also try to simply make some conductivity measurements such that we aren't hitting this lower barrier.\n",
    "\n",
    "Good reference for units and general conductivity measurements:\n",
    "\n",
    "http://www.mbhes.com/conductivity_measurement.htm  <--- FOLLOW THIS\n",
    "\n",
    "\n",
    "## How to determine $R_f$ for a given range of conductivity\n",
    "\n",
    "The trick is to choose R_f that is small enough that a given liquid sample doesn't max out $V_{out}$ before we hit the max voltage on our op-amp amplifier circuit (depends on rail-to-rail or not); and we want it big enough that we *nearly* hit max on $V_{out}$ when we're measuring our maximum expected conductivity (so we have the best resolution possible).  So, we can use a slope equation to just predict what $R_f$ should be given an expected $R_g$ range.  We also want the Rg associated with the conductivity range of interest to be such that our lowest measurements will be well above $V_{in}$+diode drop (if we're using a simple diode envelope detector) or $V_{in}$ (if we use a more precision circuit). \n"
   ]
  },
  {
   "cell_type": "code",
   "execution_count": 55,
   "metadata": {
    "collapsed": false
   },
   "outputs": [
    {
     "data": {
      "text/plain": [
       "10.6"
      ]
     },
     "execution_count": 55,
     "metadata": {},
     "output_type": "execute_result"
    }
   ],
   "source": [
    "1+48/5"
   ]
  },
  {
   "cell_type": "markdown",
   "metadata": {},
   "source": [
    "## Frequency\n",
    "\n",
    "There's an optimal frequency range for various conductivity ranges / solutions.\n",
    "\n",
    "Ref: http://ieeexplore.ieee.org/xpl/login.jsp?tp=&arnumber=848840&url=http%3A%2F%2Fieeexplore.ieee.org%2Fxpls%2Fabs_all.jsp%3Farnumber%3D848840\n",
    "\n",
    "Download this. \n",
    "\n",
    "Also see:\n",
    "\n",
    "http://www.analytical-chemistry.uoc.gr/files/items/6/618/agwgimometria_2.pdf\n",
    "\n",
    "94 Hz in 4.000 µS and 40.00 µS ranges\n",
    "46.9 kHz in 400.0 mS and 2.000 S ranges\n",
    "\n",
    "So 2 kHz is sort of the middle point, for a range that is close to tap water (500 - 800 µS) -- not a bad place to start.\n",
    "\n",
    "From the last reference above:\n",
    "\n",
    "**Frequency change.**\n",
    "\n",
    "Low frequencies are applied at low conductivities, where the polarisation\n",
    "resistance is negligible compared to resistance of the solution. They\n",
    "also contribute to reducing the cable capacitance effect, which is greater\n",
    "when the conductivity is low (high solution resistance).\n",
    "High frequencies are applied at high conductivities, where the solution\n",
    "resistance is low.\n",
    "\n",
    "In most conductivity meters, the frequency is automatically increased\n",
    "with increasing conductance of the sample, to avoid polarisation errors\n",
    "at high conductivity.\n",
    "\n",
    "\n",
    "----- \n",
    "\n",
    "Pure water 0.055 µS/cm\n",
    "\n",
    "Deionised water 1 µS/cm\n",
    "\n",
    "Rainwater 50 µS/cm\n",
    "\n",
    "Drinking water 500 µS/cm\n",
    "\n",
    "Industrial wastewater 5 mS/cm\n",
    "\n",
    "Seawater 50 mS/cm\n",
    "\n",
    "1 mol/l NaCl 85 mS/cm\n",
    "\n",
    "1 mol/l HCl 332 mS/cm\n",
    "\n",
    "Distilled water\t0.5\t \n",
    "\n",
    "------\n",
    "\n",
    "Solution\tµS/cm\tmS/cm\tppm\n",
    "\n",
    "RO water\t50-100\t \t25-50\n",
    "\n",
    "Domestic \"tap\" water\t500-800\t0.5-0.8\t250-400\n",
    "\n",
    "Potable water (max)\t1055\t1.055\t528\n",
    "\n",
    "Sea water\t56,000\t56\t28,000\n",
    "\n",
    "Brackish water\t100,000\t100\t50,000\n",
    "\n",
    "\n",
    "---------\n",
    "\n",
    "### Cell constant\n",
    "\n",
    "Note: for 2-pole cells, the standard used for the calibration must have a\n",
    "conductivity value as close as possible to the conductivity of the sample\n",
    "to measure.\n",
    "When using a 2-pole cell, the choice of the cell constant value varies\n",
    "with the linear measurement range of the cell selected. Typically, a cell\n",
    "with K = 0.1 cm-1 is chosen for pure water measurements while, for environmental\n",
    "water and industrial solutions a cell with K of 0.4 to 1 cm-1 is\n",
    "used. Cells with up to K = 10 cm-1 are best for very high conductivity\n",
    "samples.\n",
    "In the case of a 4-pole cell, the cell constant value is generally included\n",
    "in the range 0.5 to 1.5 cm-1.\n",
    "\n",
    "\n",
    "### Next ADC (16 bit) test\n",
    "\n",
    "running code for temperature and conductivity, here: https://gist.github.com/dwblair/edab5373a8470757e232\n",
    "\n",
    "initial test run with potentiometer:\n",
    "\n",
    "as increase R_g, bottom out at $V_{env}$ = 1270 (bits).  we're on the 16 bit adc, with a gain of one, where each bit is 0.125 mV.  So in volts, that's:"
   ]
  },
  {
   "cell_type": "code",
   "execution_count": 4,
   "metadata": {
    "collapsed": false
   },
   "outputs": [
    {
     "data": {
      "text/plain": [
       "0.15875"
      ]
     },
     "execution_count": 4,
     "metadata": {},
     "output_type": "execute_result"
    }
   ],
   "source": [
    "1270*0.000125"
   ]
  },
  {
   "cell_type": "markdown",
   "metadata": {},
   "source": [
    "0.16 volts -- comparable to before.  \n",
    "\n",
    "Let's look at the noise (perhaps the 12 bit is just as good):"
   ]
  },
  {
   "cell_type": "markdown",
   "metadata": {},
   "source": [
    "Below is using tap water and Rf=47K:"
   ]
  },
  {
   "cell_type": "code",
   "execution_count": 93,
   "metadata": {
    "collapsed": false,
    "scrolled": false
   },
   "outputs": [
    {
     "data": {
      "text/plain": [
       "(0, 3.8)"
      ]
     },
     "execution_count": 93,
     "metadata": {},
     "output_type": "execute_result"
    },
    {
     "data": {
      "image/png": "[encoded data removed]",
      "text/plain": [
       "<matplotlib.figure.Figure at 0x7f04b87aac18>"
      ]
     },
     "metadata": {},
     "output_type": "display_data"
    }
   ],
   "source": [
    "q=pd.read_table('./data/adc_test2.csv', header=0,sep=',',names=['Venv','tempC']);\n",
    "\n",
    "plt.plot(q.Venv*.000125); #the conversion factor from 16 bit at gain one to volts is 1 bit = 0.125 mV\n",
    "plt.ylim(0,3.8); #3.8 is the max output of our op-amp\n",
    "#plt.xlim(1100,2300)"
   ]
  },
  {
   "cell_type": "markdown",
   "metadata": {},
   "source": [
    "That got us directly in the middle of our range (max is 30000 on ADC).  \n",
    "\n",
    "Now trying Rf=10K, and adding salt to Perrier water ... "
   ]
  },
  {
   "cell_type": "code",
   "execution_count": 97,
   "metadata": {
    "collapsed": false,
    "scrolled": true
   },
   "outputs": [
    {
     "data": {
      "text/plain": [
       "(0, 1.5)"
      ]
     },
     "execution_count": 97,
     "metadata": {},
     "output_type": "execute_result"
    },
    {
     "data": {
      "image/png": "[encoded data removed]",
      "text/plain": [
       "<matplotlib.figure.Figure at 0x7f04b82e1b70>"
      ]
     },
     "metadata": {},
     "output_type": "display_data"
    }
   ],
   "source": [
    "q=pd.read_table('./data/adc_test3.csv', header=0,sep=',',names=['Venv','tempC']);\n",
    "\n",
    "plt.plot(q.Venv[1200:]*.000125); #the conversion factor from 16 bit at gain one to volts is 1 bit = 0.125 mV\n",
    "plt.ylim(0,1.5); #3.8 is the max output of our op-amp\n",
    "#plt.xlim(1100,2300)"
   ]
  },
  {
   "cell_type": "markdown",
   "metadata": {},
   "source": [
    "Note that we begin very close to the minimum -- so, if want to distinguish conductivities less than that of tap water, might need to increase $R_f$ resistor. \n",
    "\n",
    "Also: when covering this range, field effects become less significant, it seems -- a least, orientation of device in container seemed to have less impact\\\n",
    "\n",
    " Note the change in range when changes $R_f$ makes sense -- we decreased $R_f$ by a factor of 4; the output signal seems to have been about divided by four. "
   ]
  },
  {
   "cell_type": "code",
   "execution_count": 28,
   "metadata": {
    "collapsed": false
   },
   "outputs": [
    {
     "data": {
      "text/plain": [
       "19393"
      ]
     },
     "execution_count": 28,
     "metadata": {},
     "output_type": "execute_result"
    }
   ],
   "source": [
    "q.Venv[560]"
   ]
  },
  {
   "cell_type": "code",
   "execution_count": 29,
   "metadata": {
    "collapsed": false
   },
   "outputs": [
    {
     "data": {
      "text/plain": [
       "19427"
      ]
     },
     "execution_count": 29,
     "metadata": {},
     "output_type": "execute_result"
    }
   ],
   "source": [
    "q.Venv[680]"
   ]
  },
  {
   "cell_type": "markdown",
   "metadata": {},
   "source": [
    "value ranges: http://waterdata.usgs.gov/nwis/wys_rpt/?site_no=01104430&agency_cd=USGS\n",
    "\n",
    "For your calibrations, the Federal chloride standards translate to about 875-925 uS/cm for chronic exceedance and 2500-3000 uS/cm for acute exceedances. I will be in the office everyday expect Friday this week and next so feel free to give me a buzz if you have any questions.\n",
    " \n",
    " According to this, over the last 15 or so years, the average value has been 1907uS/cm. Keep in mind this is sporadic data though from a jumble of locations and time intervals, but hopefully its useful.\n",
    " \n",
    " EXTREMES FOR PERIOD OF DAILY RECORD - \n",
    " \n",
    " SPECIFIC CONDUCTANCE: Maximum recorded, 1,940 uS/cm, Mar. 20, 2001; minimum, 163 uS/cm, Nov. 26, 2000. WATER TEMPERATURE: Maximum recorded, 26.5 °C, June 26, 2001; minimum, 0.2 °C, Jan. 18, 2001. \n",
    " \n",
    " EXTREMES FOR 2014 WATER YEAR.--\n",
    "\n",
    "SPECIFIC CONDUCTANCE: Maximum recorded, 1,270 uS/cm, Mar. 24, 2014; minimum, 684 uS/cm, Dec. 29, 2013. WATER TEMPERATURE: Maximum recorded, 25.2 °C, July 24, 2014; minimum, 1.6 °C, Jan. 3, 2014. \n",
    "\n",
    "EXTREMES FOR 2015 WATER YEAR.--\n",
    "\n",
    "SPECIFIC CONDUCTANCE: Maximum recorded, 1,140 uS/cm, Apr. 11, 2015; minimum, 485 uS/cm, Dec. 9, 2014. WATER TEMPERATURE: Maximum recorded, 26.2 °C, Sept. 3, 2015; minimum, 1.9 °C, Dec. 20, 2014.\n",
    "\n",
    "so .... 100 uS to 5000, say\n",
    "\n",
    " "
   ]
  },
  {
   "cell_type": "markdown",
   "metadata": {},
   "source": [
    "### Update on voltage drop between V_out and V_env\n",
    "\n",
    "Note that the difference is completely consistent -- same difference for all Rg, and about the amount we'd expect from a diode forward voltage \n",
    "\n",
    "----\n",
    "\n",
    "## Test of solutions of known conductivity\n",
    "\n",
    "Below is with $R_f$ = 9.9K (10K) \n",
    "\n",
    "The SOT's are: \n",
    "\n",
    "- 80 uS (can only see this as a slight bump above the baseline)\n",
    "- 1414 uS (around .6 volts)\n",
    "- 12880 (around 3 volts)\n",
    "\n",
    "and I also tried to dilute 12880 in half with distilled water -- I don't really trust the measurement / result, but this the solution that yielded around 2 volts below."
   ]
  },
  {
   "cell_type": "code",
   "execution_count": 213,
   "metadata": {
    "collapsed": false,
    "scrolled": false
   },
   "outputs": [
    {
     "data": {
      "text/plain": [
       "[<matplotlib.lines.Line2D at 0x7f04b7eff0f0>]"
      ]
     },
     "execution_count": 213,
     "metadata": {},
     "output_type": "execute_result"
    },
    {
     "data": {
      "image/png": "[encoded data removed]",
      "text/plain": [
       "<matplotlib.figure.Figure at 0x7f04b8005a20>"
      ]
     },
     "metadata": {},
     "output_type": "display_data"
    }
   ],
   "source": [
    "q=pd.read_table('./data/adc_test4.csv', header=0,sep=',',names=['Venv','tempC']);\n",
    "\n",
    "plt.plot(q.Venv*.000125); #the conversion factor from 16 bit at gain one to volts is 1 bit = 0.125 mV\n",
    "#plt.ylim(2.5,3.0); #3.8 is the max output of our op-amp\n",
    "#plt.xlim(1000,2500)"
   ]
  },
  {
   "cell_type": "markdown",
   "metadata": {},
   "source": [
    "### Temp correction \n",
    "\n",
    "... from: http://www.analyticexpert.com/2011/03/temperature-compensation-algorithms-for-conductivity/\n",
    "\n",
    "$C_{25}=\\frac{C_t}{1 + \\alpha (t-25)}$"
   ]
  },
  {
   "cell_type": "code",
   "execution_count": 216,
   "metadata": {
    "collapsed": false
   },
   "outputs": [],
   "source": [
    "alpha=.02; #for most dilute salt solutions\n",
    "\n",
    "v_25=q.Venv/(1+alpha*(q.tempC-25))"
   ]
  },
  {
   "cell_type": "code",
   "execution_count": 219,
   "metadata": {
    "collapsed": false
   },
   "outputs": [
    {
     "data": {
      "text/plain": [
       "[<matplotlib.lines.Line2D at 0x7f04b7879048>]"
      ]
     },
     "execution_count": 219,
     "metadata": {},
     "output_type": "execute_result"
    },
    {
     "data": {
      "image/png": "[encoded data removed]",
      "text/plain": [
       "<matplotlib.figure.Figure at 0x7f04b7875c18>"
      ]
     },
     "metadata": {},
     "output_type": "display_data"
    }
   ],
   "source": [
    "q=pd.read_table('./data/adc_test4.csv', header=0,sep=',',names=['Venv','tempC']);\n",
    "\n",
    "plt.plot(q.Venv);#the conversion factor from 16 bit at gain one to volts is 1 bit = 0.125 mV\n",
    "plt.plot(v_25);\n",
    "#plt.ylim(0,50); #3.8 is the max output of our op-amp\n",
    "#plt.xlim(1100,2300)"
   ]
  },
  {
   "cell_type": "code",
   "execution_count": null,
   "metadata": {
    "collapsed": true
   },
   "outputs": [],
   "source": []
  },
  {
   "cell_type": "markdown",
   "metadata": {},
   "source": [
    "note that appendix A here: http://www.tau.ac.il/~chemlaba/Files/conductivity_guide_EN%20(2).pdf\n",
    "indicates that \\alpha for KCl is about 2% per degree C for 1400 uS, so that's 4% across 19.5 to 21.5.  So we'd expect our measurements to chnage by about 4%.  \n",
    "\n",
    "good reference re: temp coeff w/ conductivity:\n",
    "\n",
    "http://aslo.info/lo/toc/vol_7/issue_3/0330.pdf"
   ]
  },
  {
   "cell_type": "code",
   "execution_count": 212,
   "metadata": {
    "collapsed": false
   },
   "outputs": [
    {
     "data": {
      "text/plain": [
       "0.11864406779661019"
      ]
     },
     "execution_count": 212,
     "metadata": {},
     "output_type": "execute_result"
    }
   ],
   "source": [
    "(2.95-2.6)/2.95"
   ]
  },
  {
   "cell_type": "code",
   "execution_count": 206,
   "metadata": {
    "collapsed": false
   },
   "outputs": [
    {
     "data": {
      "text/plain": [
       "[<matplotlib.lines.Line2D at 0x7f04b79d7588>]"
      ]
     },
     "execution_count": 206,
     "metadata": {},
     "output_type": "execute_result"
    },
    {
     "data": {
      "image/png": "[encoded data removed]",
      "text/plain": [
       "<matplotlib.figure.Figure at 0x7f04b7c22c18>"
      ]
     },
     "metadata": {},
     "output_type": "display_data"
    }
   ],
   "source": [
    "q=pd.read_table('./data/conduct_test.csv', sep=',',names=['uS','V']);\n",
    "\n",
    "plt.plot(q.uS, q.V,'-o'); #the conversion factor from 16 bit at gain one to volts is 1 bit = 0.125 mV\n",
    "#plt.ylim(0,50); #3.8 is the max output of our op-amp\n",
    "#plt.xlim(1100,2300)"
   ]
  },
  {
   "cell_type": "markdown",
   "metadata": {},
   "source": [
    "### Four probe\n",
    "\n",
    "Measuring small currents:\n",
    "\n",
    "https://phidgets.wordpress.com/2014/07/15/how-to-measure-very-small-currents-without-current-sensors/\n",
    "\n",
    "Theory:\n",
    "\n",
    "http://www.sardarsinghsir.com/MSc/MSc%20-pdf%20files/Four-Probe-Method.pdf\n",
    "\n",
    "----\n",
    "\n",
    "**uCurrent sensor from EEVblog**\n",
    "\n",
    "http://www.eevblog.com/projects/ucurrent/ <-- wow, schematic is available!! and the BOM looks cheap\n",
    "\n",
    "schematic: http://www.eevblog.com/files/uCurrentRev5schematic.pdf\n",
    "adafruit description: https://www.adafruit.com/products/882\n",
    "\n",
    "----\n",
    "\n",
    "looks like an lmv321, lm358, lm324 (single, double, quad) op-amp is rail to rail, accepts 3V input -- might be what i want for two probe and four probe\n",
    "\n",
    "http://media.digikey.com/pdf/Data%20Sheets/Texas%20Instruments%20PDFs/LMV324,%20LMV358.pdf\n",
    "\n",
    "----\n",
    "\n",
    "precision voltage reference\n",
    "\n",
    "https://www.adafruit.com/products/2200"
   ]
  },
  {
   "cell_type": "code",
   "execution_count": 150,
   "metadata": {
    "collapsed": false,
    "scrolled": true
   },
   "outputs": [
    {
     "data": {
      "text/plain": [
       "(1000, 2500)"
      ]
     },
     "execution_count": 150,
     "metadata": {},
     "output_type": "execute_result"
    },
    {
     "data": {
      "image/png": "[encoded data removed]",
      "text/plain": [
       "<matplotlib.figure.Figure at 0x7f04b892d3c8>"
      ]
     },
     "metadata": {},
     "output_type": "display_data"
    }
   ],
   "source": [
    "plt.plot(q.Venv[1000:]*.000125); #the conversion factor from 16 bit at gain one to volts is 1 bit = 0.125 mV\n",
    "plt.ylim(2.8,3.1); #3.8 is the max output of our op-amp\n",
    "plt.xlim(1000,2500)"
   ]
  },
  {
   "cell_type": "code",
   "execution_count": 152,
   "metadata": {
    "collapsed": true
   },
   "outputs": [],
   "source": [
    "v3=[2.99,2.87,2,85,2.92]"
   ]
  },
  {
   "cell_type": "code",
   "execution_count": 155,
   "metadata": {
    "collapsed": false
   },
   "outputs": [
    {
     "data": {
      "text/plain": [
       "(1800, 4500)"
      ]
     },
     "execution_count": 155,
     "metadata": {},
     "output_type": "execute_result"
    },
    {
     "data": {
      "image/png": "[encoded data removed]",
      "text/plain": [
       "<matplotlib.figure.Figure at 0x7f04b7e74198>"
      ]
     },
     "metadata": {},
     "output_type": "display_data"
    }
   ],
   "source": [
    "plt.plot(q.Venv[1000:]*.000125); #the conversion factor from 16 bit at gain one to volts is 1 bit = 0.125 mV\n",
    "plt.ylim(1.8,2.2); #3.8 is the max output of our op-amp\n",
    "plt.xlim(1800,4500)"
   ]
  },
  {
   "cell_type": "code",
   "execution_count": 156,
   "metadata": {
    "collapsed": true
   },
   "outputs": [],
   "source": [
    "v2=[2.02,2.,1.9]"
   ]
  },
  {
   "cell_type": "code",
   "execution_count": 157,
   "metadata": {
    "collapsed": false
   },
   "outputs": [
    {
     "data": {
      "text/plain": [
       "(0.3, 0.9)"
      ]
     },
     "execution_count": 157,
     "metadata": {},
     "output_type": "execute_result"
    },
    {
     "data": {
      "image/png": "[encoded data removed]",
      "text/plain": [
       "<matplotlib.figure.Figure at 0x7f04b7de0320>"
      ]
     },
     "metadata": {},
     "output_type": "display_data"
    }
   ],
   "source": [
    "plt.plot(q.Venv[1000:]*.000125); #the conversion factor from 16 bit at gain one to volts is 1 bit = 0.125 mV\n",
    "plt.ylim(.3,.9); #3.8 is the max output of our op-amp\n",
    "#plt.xlim(1800,4500)"
   ]
  },
  {
   "cell_type": "code",
   "execution_count": 158,
   "metadata": {
    "collapsed": true
   },
   "outputs": [],
   "source": [
    "v1=[.55,.65,.65,.58]"
   ]
  },
  {
   "cell_type": "code",
   "execution_count": 171,
   "metadata": {
    "collapsed": false
   },
   "outputs": [],
   "source": [
    "v1_ave=np.average(v1);v2_ave=np.average(v2);v3_ave=np.average(v3);"
   ]
  },
  {
   "cell_type": "code",
   "execution_count": 165,
   "metadata": {
    "collapsed": false
   },
   "outputs": [
    {
     "data": {
      "text/plain": [
       "0.043803538669838084"
      ]
     },
     "execution_count": 165,
     "metadata": {},
     "output_type": "execute_result"
    }
   ],
   "source": [
    "v1_sd=np.std(v1); v2_sd=np.std(v2); v3_sd=np.std(v3);"
   ]
  },
  {
   "cell_type": "code",
   "execution_count": 190,
   "metadata": {
    "collapsed": false
   },
   "outputs": [],
   "source": [
    "v1_err=np.std(v1)/np.sqrt(len(v1)); v2_err=np.std(v2)/np.sqrt(v2); v3_err=np.std(v3)/np.sqrt(v3)"
   ]
  },
  {
   "cell_type": "code",
   "execution_count": 167,
   "metadata": {
    "collapsed": true
   },
   "outputs": [],
   "source": [
    "c1=1413; c2=12880/2.; c3=12880"
   ]
  },
  {
   "cell_type": "code",
   "execution_count": 172,
   "metadata": {
    "collapsed": false
   },
   "outputs": [],
   "source": [
    "v=[v1_ave,v2_ave,v3_ave]"
   ]
  },
  {
   "cell_type": "code",
   "execution_count": 176,
   "metadata": {
    "collapsed": false
   },
   "outputs": [
    {
     "data": {
      "text/plain": [
       "[1413, 6440.0, 12880]"
      ]
     },
     "execution_count": 176,
     "metadata": {},
     "output_type": "execute_result"
    }
   ],
   "source": [
    "c=[c1,c2,c3];c"
   ]
  },
  {
   "cell_type": "code",
   "execution_count": 183,
   "metadata": {
    "collapsed": false
   },
   "outputs": [
    {
     "data": {
      "text/plain": [
       "[0.010950884667459521, 6.5847956505877985]"
      ]
     },
     "execution_count": 183,
     "metadata": {},
     "output_type": "execute_result"
    }
   ],
   "source": [
    "verr=[v1_err,v3_err];verr"
   ]
  },
  {
   "cell_type": "code",
   "execution_count": 178,
   "metadata": {
    "collapsed": false,
    "scrolled": true
   },
   "outputs": [
    {
     "data": {
      "text/plain": [
       "[<matplotlib.lines.Line2D at 0x7f04b8037da0>]"
      ]
     },
     "execution_count": 178,
     "metadata": {},
     "output_type": "execute_result"
    },
    {
     "data": {
      "image/png": "[encoded data removed]",
      "text/plain": [
       "<matplotlib.figure.Figure at 0x7f04b8012908>"
      ]
     },
     "metadata": {},
     "output_type": "display_data"
    }
   ],
   "source": [
    "plt.plot(c,v,'o')"
   ]
  },
  {
   "cell_type": "code",
   "execution_count": 192,
   "metadata": {
    "collapsed": false
   },
   "outputs": [
    {
     "data": {
      "text/plain": [
       "[0.010950884667459521, 6.5847956505877985]"
      ]
     },
     "execution_count": 192,
     "metadata": {},
     "output_type": "execute_result"
    }
   ],
   "source": [
    "v=[v1_ave,v3_ave]; c=[c1,c3];verr"
   ]
  },
  {
   "cell_type": "code",
   "execution_count": 196,
   "metadata": {
    "collapsed": false
   },
   "outputs": [
    {
     "data": {
      "text/plain": [
       "<Container object of 3 artists>"
      ]
     },
     "execution_count": 196,
     "metadata": {},
     "output_type": "execute_result"
    },
    {
     "data": {
      "image/png": "[encoded data removed]",
      "text/plain": [
       "<matplotlib.figure.Figure at 0x7f04b8014550>"
      ]
     },
     "metadata": {},
     "output_type": "display_data"
    }
   ],
   "source": [
    "plt.errorbar(v, c, yerr=verr, fmt='-o');\n",
    "#plt.ylim(12700,13000)"
   ]
  },
  {
   "cell_type": "markdown",
   "metadata": {},
   "source": [
    "Okay, so rather than use the middle voltage data, which I constructed by trying to dilute 12880 uS solution with tap water, let's instead try to change the resistor settings and be able to measure 80 uS. Then we can translate appropriately ...\n",
    "\n"
   ]
  },
  {
   "cell_type": "code",
   "execution_count": 203,
   "metadata": {
    "collapsed": false
   },
   "outputs": [
    {
     "data": {
      "text/plain": [
       "(300, 500)"
      ]
     },
     "execution_count": 203,
     "metadata": {},
     "output_type": "execute_result"
    },
    {
     "data": {
      "image/png": "[encoded data removed]",
      "text/plain": [
       "<matplotlib.figure.Figure at 0x7f04b7d0f7b8>"
      ]
     },
     "metadata": {},
     "output_type": "display_data"
    }
   ],
   "source": [
    "q=pd.read_table('./data/adc_test4.csv', header=0,sep=',',names=['Venv','tempC']);\n",
    "\n",
    "plt.plot(q.Venv*.000125); #the conversion factor from 16 bit at gain one to volts is 1 bit = 0.125 mV\n",
    "plt.ylim(.18,.20); #3.8 is the max output of our op-amp\n",
    "plt.xlim(300,500)"
   ]
  },
  {
   "cell_type": "markdown",
   "metadata": {},
   "source": [
    "----\n",
    "\n",
    "## Better setup \n",
    "\n",
    "A repeat with $R_f$ = 10K ..."
   ]
  },
  {
   "cell_type": "code",
   "execution_count": 274,
   "metadata": {
    "collapsed": false
   },
   "outputs": [
    {
     "data": {
      "text/plain": [
       "(0, 3.8)"
      ]
     },
     "execution_count": 274,
     "metadata": {},
     "output_type": "execute_result"
    },
    {
     "data": {
      "image/png": "[encoded data removed]",
      "text/plain": [
       "<matplotlib.figure.Figure at 0x7f04b7392ba8>"
      ]
     },
     "metadata": {},
     "output_type": "display_data"
    }
   ],
   "source": [
    "q=pd.read_table('./data/adc_test5.csv', header=0,sep=',',names=['Venv','tempC']);\n",
    "\n",
    "alpha=.02; #for most dilute salt solutions\n",
    "\n",
    "voltsPerBit = .000125;\n",
    "\n",
    "tempCorr = 1/(1+alpha*(q.tempC-25));\n",
    "              \n",
    "v_25=q.Venv*voltsPerBit*tempCorr # convert bits to volts, and correct for temp\n",
    "\n",
    "#plt.plot(q.Venv);#the conversion factor from 16 bit at gain one to volts is 1 bit = 0.125 mV\n",
    "plt.plot(v_25);\n",
    "plt.ylim(0,3.8); #3.8 is the max output of our op-amp\n",
    "#plt.xlim(1100,2300)"
   ]
  },
  {
   "cell_type": "markdown",
   "metadata": {},
   "source": [
    "The above is for C_high = 12880 uS, and C_low = 1413 uS.\n",
    "\n",
    "Note -- one indication that we're polarizing the solution:  when, after a while, I rotate the device so that the screws are in the opposite positions, it seems to increase the conductivity ...  also, stirring seems to have an effect ...\n",
    "\n",
    "Likely the position of the conductivity probe progressively gets deeper in the solution each time, as I'm using duct tape to situate the probe [pic].  And it will vary with each setup.\n",
    "\n",
    "Need to find a more repeatable way of doing it -- same container size, same probe holder.\n"
   ]
  },
  {
   "cell_type": "markdown",
   "metadata": {},
   "source": [
    "----\n",
    "\n",
    "### Now change to $R_f$ = 46.6 K\n",
    "\n",
    "The solutions under test will be C_low = 84 uS, and C_high = 1413 uS"
   ]
  },
  {
   "cell_type": "code",
   "execution_count": 368,
   "metadata": {
    "collapsed": false
   },
   "outputs": [
    {
     "data": {
      "text/plain": [
       "(0, 5)"
      ]
     },
     "execution_count": 368,
     "metadata": {},
     "output_type": "execute_result"
    },
    {
     "data": {
      "image/png": "[encoded data removed]",
      "text/plain": [
       "<matplotlib.figure.Figure at 0x7f04b73906d8>"
      ]
     },
     "metadata": {},
     "output_type": "display_data"
    }
   ],
   "source": [
    "q=pd.read_table('./data/adc_test6.csv', header=0,sep=',',names=['Venv','tempC']);\n",
    "\n",
    "alpha=.02; #for most dilute salt solutions\n",
    "\n",
    "voltsPerBit = .000125;\n",
    "\n",
    "tempCorr = 1/(1+alpha*(q.tempC-25));\n",
    "              \n",
    "v_25=q.Venv*voltsPerBit*tempCorr # convert bits to volts, and correct for temp\n",
    "\n",
    "#plt.plot(q.Venv);#the conversion factor from 16 bit at gain one to volts is 1 bit = 0.125 mV\n",
    "plt.plot(v_25);\n",
    "plt.ylim(0,5); #3.8 is the max output of our op-amp\n",
    "#plt.xlim(1100,2300)"
   ]
  },
  {
   "cell_type": "markdown",
   "metadata": {},
   "source": [
    "That last glitch is me measuring a resistor on the breadboard with a multimeter ... note the sensitivity to input from the multimeter! interesting\n",
    "\n",
    "-----\n",
    "\n",
    "Note -- so it's not confusing later -- these are temperature-corrected voltages (perhaps an odd way of doing it), knowing that the temperature of the liquid will affect the conductivity -- that's why we are getting above 4 volts (knowing that we hit the limit of the op-amp around 3.8 volts). \n",
    "\n",
    "We are close to the limit, however ... plotting without correction:"
   ]
  },
  {
   "cell_type": "code",
   "execution_count": 353,
   "metadata": {
    "collapsed": false
   },
   "outputs": [
    {
     "data": {
      "text/plain": [
       "(0, 4)"
      ]
     },
     "execution_count": 353,
     "metadata": {},
     "output_type": "execute_result"
    },
    {
     "data": {
      "image/png": "[encoded data removed]",
      "text/plain": [
       "<matplotlib.figure.Figure at 0x7f04b7e48518>"
      ]
     },
     "metadata": {},
     "output_type": "display_data"
    }
   ],
   "source": [
    "q=pd.read_table('./data/adc_test6.csv', header=0,sep=',',names=['Venv','tempC']);\n",
    "\n",
    "alpha=.02; #for most dilute salt solutions\n",
    "\n",
    "voltsPerBit = .000125;\n",
    "              \n",
    "v_25=q.Venv*voltsPerBit # convert bits to volts\n",
    "\n",
    "#plt.plot(q.Venv);#the conversion factor from 16 bit at gain one to volts is 1 bit = 0.125 mV\n",
    "plt.plot(v_25);\n",
    "plt.ylim(0,4); #3.8 is the max output of our op-amp\n",
    "#plt.xlim(1100,2300)"
   ]
  },
  {
   "cell_type": "markdown",
   "metadata": {},
   "source": [
    "We see we're very close. "
   ]
  },
  {
   "cell_type": "code",
   "execution_count": 273,
   "metadata": {
    "collapsed": false
   },
   "outputs": [
    {
     "data": {
      "text/plain": [
       "600.0"
      ]
     },
     "execution_count": 273,
     "metadata": {},
     "output_type": "execute_result"
    }
   ],
   "source": [
    ".6*1000000/1000"
   ]
  },
  {
   "cell_type": "markdown",
   "metadata": {},
   "source": [
    "## ranges\n",
    "\n",
    "the Federal chloride standards translate to about 875-925 uS/cm for chronic exceedance and 2500-3000 uS/cm for acute exceedances. I will be in the office everyday expect Friday this week and next so feel free to give me a buzz if you have any questions."
   ]
  },
  {
   "cell_type": "markdown",
   "metadata": {},
   "source": [
    "----\n",
    "\n",
    "### Now change to $R_f$ = 22 K\n",
    "\n",
    "The solutions under test will be C_low = 84 uS, and C_high = 1413 uS.\n",
    "\n",
    "This is perhaps an appropriate $R_f$ for measuring conductivities between 0 and 5000 uS/cm.\n",
    "\n"
   ]
  },
  {
   "cell_type": "code",
   "execution_count": 369,
   "metadata": {
    "collapsed": false
   },
   "outputs": [
    {
     "data": {
      "text/plain": [
       "(0, 4)"
      ]
     },
     "execution_count": 369,
     "metadata": {},
     "output_type": "execute_result"
    },
    {
     "data": {
      "image/png": "[encoded data removed]",
      "text/plain": [
       "<matplotlib.figure.Figure at 0x7f04b7390588>"
      ]
     },
     "metadata": {},
     "output_type": "display_data"
    }
   ],
   "source": [
    "q=pd.read_table('./data/adc_test7.csv', header=0,sep=',',names=['Venv','tempC']);\n",
    "\n",
    "alpha=.02; #for most dilute salt solutions\n",
    "\n",
    "voltsPerBit = .000125;\n",
    "\n",
    "tempCorr = 1/(1+alpha*(q.tempC-25));\n",
    "              \n",
    "v_25=q.Venv*voltsPerBit*tempCorr # convert bits to volts, and correct for temp\n",
    "\n",
    "#plt.plot(q.Venv);#the conversion factor from 16 bit at gain one to volts is 1 bit = 0.125 mV\n",
    "plt.plot(v_25);\n",
    "plt.ylim(0,4); #3.8 is the max output of our op-amp\n",
    "#plt.xlim(1100,2300)"
   ]
  },
  {
   "cell_type": "code",
   "execution_count": 336,
   "metadata": {
    "collapsed": false
   },
   "outputs": [
    {
     "data": {
      "text/plain": [
       "(0.15, 0.22)"
      ]
     },
     "execution_count": 336,
     "metadata": {},
     "output_type": "execute_result"
    },
    {
     "data": {
      "image/png": "[encoded data removed]",
      "text/plain": [
       "<matplotlib.figure.Figure at 0x7f04b75a77f0>"
      ]
     },
     "metadata": {},
     "output_type": "display_data"
    }
   ],
   "source": [
    "# closeup of lower conductivity range\n",
    "plt.plot(v_25);\n",
    "plt.ylim(.15,.22); #3.8 is the max output of our op-amp\n",
    "#plt.xlim(1100,2300)"
   ]
  },
  {
   "cell_type": "markdown",
   "metadata": {},
   "source": [
    "Note that the lower conductivity measurement likely increases with time because of cross-contamination -- I wasn't being very careful in wiping off the probe or the temperature sensor between the containers with higher and lower conductivity"
   ]
  },
  {
   "cell_type": "code",
   "execution_count": 370,
   "metadata": {
    "collapsed": false
   },
   "outputs": [
    {
     "data": {
      "text/plain": [
       "(1.5, 2.1)"
      ]
     },
     "execution_count": 370,
     "metadata": {},
     "output_type": "execute_result"
    },
    {
     "data": {
      "image/png": "[encoded data removed]",
      "text/plain": [
       "<matplotlib.figure.Figure at 0x7f04b7476ba8>"
      ]
     },
     "metadata": {},
     "output_type": "display_data"
    }
   ],
   "source": [
    "# closeup of lower conductivity range\n",
    "plt.plot(v_25);\n",
    "plt.ylim(1.5,2.1); #3.8 is the max output of our op-amp\n",
    "#plt.xlim(1100,2300)"
   ]
  },
  {
   "cell_type": "code",
   "execution_count": 378,
   "metadata": {
    "collapsed": false
   },
   "outputs": [
    {
     "data": {
      "text/plain": [
       "0.0012791572610985702"
      ]
     },
     "execution_count": 378,
     "metadata": {},
     "output_type": "execute_result"
    }
   ],
   "source": [
    "voltsPeruS=(1.9-.2)/(1413-84);voltsPeruS # volts per uS"
   ]
  },
  {
   "cell_type": "code",
   "execution_count": 379,
   "metadata": {
    "collapsed": false
   },
   "outputs": [
    {
     "data": {
      "text/plain": [
       "3.837471783295711"
      ]
     },
     "execution_count": 379,
     "metadata": {},
     "output_type": "execute_result"
    }
   ],
   "source": [
    "3000*voltsPeruS # this is the expected voltage for 3000 uS"
   ]
  },
  {
   "cell_type": "markdown",
   "metadata": {},
   "source": [
    "So maybe we'll want to use 10K, or some value between 10K and 22K, if we want to include up to 5000 uS. "
   ]
  },
  {
   "cell_type": "code",
   "execution_count": null,
   "metadata": {
    "collapsed": true
   },
   "outputs": [],
   "source": [
    "4/1.8 # ratio of voltage for C=1413 uS when Rf=47K to when Rf=22K"
   ]
  },
  {
   "cell_type": "code",
   "execution_count": 313,
   "metadata": {
    "collapsed": false
   },
   "outputs": [
    {
     "data": {
      "text/plain": [
       "2.1363636363636362"
      ]
     },
     "execution_count": 313,
     "metadata": {},
     "output_type": "execute_result"
    }
   ],
   "source": [
    "47/22 # ratio of Rf=47 K to Rf = 22"
   ]
  },
  {
   "cell_type": "markdown",
   "metadata": {},
   "source": [
    "As predicted -- when measuring the same solution, changing $R_f$ from 47K to 22K brings the measured voltage down by about the same factor.\n",
    "\n",
    "So we can pretty confidently dial in a conductivity range with a given resistor.\n",
    "\n",
    "A concern at this point is that the measurements seem to be more stable for lower $R_f$. Would this have been predicted for our circuit design? \n",
    "\n",
    "Also, as one would expect from the experiments earlier, the lower conductivity (81 uS) is barely above the lowest possible voltage measurement (though it still appears to work).  This might be improved somewhat by using a precision / super diode configuration, which might give us close to another .5 volts at the bottom end (removing some of the diode voltage drop). \n",
    "\n",
    "Also note: recommended frequencies are:\n",
    "\n",
    "94 Hz in 4.000 µS and 40.00 µS ranges\n",
    "46.9 kHz in 400.0 mS and 2.000 S ranges\n",
    "\n",
    "Perhaps we should use a higher frequency for higher conductivities?\n",
    "\n"
   ]
  },
  {
   "cell_type": "code",
   "execution_count": 325,
   "metadata": {
    "collapsed": false
   },
   "outputs": [
    {
     "data": {
      "text/plain": [
       "0.4"
      ]
     },
     "execution_count": 325,
     "metadata": {},
     "output_type": "execute_result"
    }
   ],
   "source": [
    "400E-3"
   ]
  },
  {
   "cell_type": "code",
   "execution_count": 326,
   "metadata": {
    "collapsed": false
   },
   "outputs": [
    {
     "data": {
      "text/plain": [
       "0.018"
      ]
     },
     "execution_count": 326,
     "metadata": {},
     "output_type": "execute_result"
    }
   ],
   "source": [
    "18000E-6"
   ]
  },
  {
   "cell_type": "markdown",
   "metadata": {},
   "source": [
    "### Retrying Rf=10K\n",
    "\n",
    "C_high = 12880 uS, C_low = 1413 uS.\n",
    "\n",
    "Seeing if my experimental method / apparatus has improved, leading to better measurements ... "
   ]
  },
  {
   "cell_type": "code",
   "execution_count": 354,
   "metadata": {
    "collapsed": false
   },
   "outputs": [
    {
     "data": {
      "text/plain": [
       "(0, 4)"
      ]
     },
     "execution_count": 354,
     "metadata": {},
     "output_type": "execute_result"
    },
    {
     "data": {
      "image/png": "[encoded data removed]",
      "text/plain": [
       "<matplotlib.figure.Figure at 0x7f04b76e74a8>"
      ]
     },
     "metadata": {},
     "output_type": "display_data"
    }
   ],
   "source": [
    "q=pd.read_table('./data/adc_test8.csv', header=0,sep=',',names=['Venv','tempC']);\n",
    "\n",
    "alpha=.02; #for most dilute salt solutions\n",
    "\n",
    "voltsPerBit = .000125;\n",
    "\n",
    "tempCorr = 1/(1+alpha*(q.tempC-25));\n",
    "              \n",
    "v_25=q.Venv*voltsPerBit*tempCorr # convert bits to volts, and correct for temp\n",
    "\n",
    "#plt.plot(q.Venv);#the conversion factor from 16 bit at gain one to volts is 1 bit = 0.125 mV\n",
    "plt.plot(v_25);\n",
    "plt.ylim(0,4); #3.8 is the max output of our op-amp\n",
    "#plt.xlim(1100,2300)"
   ]
  },
  {
   "cell_type": "markdown",
   "metadata": {},
   "source": [
    "Now I'm thinking that the \"uptick\" at the beginning with C_low comes from the contamination of transferring from the previous solution.  Note that this might explain why in earlier Rf=10K experiments, C_high started low and increased, and C_low started high and decreased.\n",
    "\n",
    "This also likely explains why the average C_low is getting higher, and the average C_high is getting lower (though this isn't true for the last little blip of C_low ...)\n",
    "\n",
    "Note: tried changing the location of the 10K resistor on the breadboard -- to see whether there was some issue with that (stray capacitance?) ... that's the blip up to maximum voltage ...\n",
    "\n",
    "So this would all point to avoiding cross-contamination by cleaning and drying the probes thoroughly.\n",
    "\n",
    "To test the contamination theory:  let's try measuring C_low **without** going back and forth to C_high, but for the same resistor Rf=10K ..."
   ]
  },
  {
   "cell_type": "code",
   "execution_count": 367,
   "metadata": {
    "collapsed": false
   },
   "outputs": [
    {
     "data": {
      "text/plain": [
       "(0, 1.5)"
      ]
     },
     "execution_count": 367,
     "metadata": {},
     "output_type": "execute_result"
    },
    {
     "data": {
      "image/png": "[encoded data removed]",
      "text/plain": [
       "<matplotlib.figure.Figure at 0x7f04b793f748>"
      ]
     },
     "metadata": {},
     "output_type": "display_data"
    }
   ],
   "source": [
    "q=pd.read_table('./data/adc_test9.csv', header=0,sep=',',names=['Venv','tempC']);\n",
    "\n",
    "alpha=.02; #for most dilute salt solutions\n",
    "\n",
    "voltsPerBit = .000125;\n",
    "\n",
    "tempCorr = 1/(1+alpha*(q.tempC-25));\n",
    "              \n",
    "v_25=q.Venv*voltsPerBit*tempCorr # convert bits to volts, and correct for temp\n",
    "\n",
    "#plt.plot(q.Venv);#the conversion factor from 16 bit at gain one to volts is 1 bit = 0.125 mV\n",
    "plt.plot(v_25);\n",
    "plt.ylim(0,1.5); #3.8 is the max output of our op-amp\n",
    "#plt.xlim(1100,2300)"
   ]
  },
  {
   "cell_type": "markdown",
   "metadata": {},
   "source": [
    "Yes, interesting!  No initial \"spike\" for C_low (1430 uS), as in previous experiments when C_low = 1430 uS and C_high = 12880 uS.  Likely this feature was due to contamination from the very high conductivity C_high (12880 uS) in this measured C_low (1430 uS). \n",
    "\n",
    "Lesson:  probably should re-test the same conductivity solution repeatedly, then pause and clean the probe thoroughly, before changing to solution with different conductivity.\n",
    "\n",
    "(Goofed up past index=350 in above when i switched things back ... not sure how ..)\n"
   ]
  },
  {
   "cell_type": "code",
   "execution_count": 348,
   "metadata": {
    "collapsed": false
   },
   "outputs": [
    {
     "data": {
      "text/plain": [
       "5725.0"
      ]
     },
     "execution_count": 348,
     "metadata": {},
     "output_type": "execute_result"
    }
   ],
   "source": [
    "(12880-1430)/2"
   ]
  },
  {
   "cell_type": "markdown",
   "metadata": {},
   "source": [
    "Assuming the scale is linear, the midpoint of these conductivities is about 5700 uS/cm. The highest 'exceedance' level is 3000 uS/cm.  So this points to using about twice Rf=10K, or Rf=20K -- so, unless we use a switch, we can just dial in Rf=22K for now.\n",
    "\n",
    "-----\n",
    "\n",
    "### Good reference, in general, for conductivity measurements\n",
    "\n",
    "http://www.analytical-chemistry.uoc.gr/files/items/6/618/agwgimometria_2.pdf"
   ]
  },
  {
   "cell_type": "markdown",
   "metadata": {},
   "source": [
    "Estimate of error:  let's say that at Rf=22K, we seem to be +/- 0.05 volts. \n",
    "\n",
    "We estimated 0.0013 volts per uS, so"
   ]
  },
  {
   "cell_type": "code",
   "execution_count": 381,
   "metadata": {
    "collapsed": false
   },
   "outputs": [
    {
     "data": {
      "text/plain": [
       "38.46153846153847"
      ]
     },
     "execution_count": 381,
     "metadata": {},
     "output_type": "execute_result"
    }
   ],
   "source": [
    ".05/.0013"
   ]
  },
  {
   "cell_type": "markdown",
   "metadata": {},
   "source": [
    "... that's +/- 38 uS.  Likely this is only true under ideal conditions, when making measurements consistently, avoiding contamination, and in a large container.  \n",
    "\n",
    "For reference, look at specs of hobo logger, to see what kind of characterization would be useful:\n",
    "\n",
    "http://www.onsetcomp.com/files/manual_pdfs/15070-C-MAN-U24x.pdf\n",
    "\n",
    "Also: sparky's widgets galvanic isolation:\n",
    "\n",
    "https://www.sparkyswidgets.com/portfolio-item/isolated-ec-interface/\n",
    "\n",
    "isolated i2c: http://www.analog.com/media/en/technical-documentation/application-notes/AN_913.pdf\n",
    "\n",
    "http://hifiduino.blogspot.com/2010/02/programming-buffalo-ii-dac-i2c.html\n",
    "\n",
    "explanation of isolation: http://www.atlas-scientific.com/_files/_datasheets/_circuit/EC_EZO_Datasheet.pdf\n",
    "\n",
    "NOTE:  the reference design on farnell also does isolation, using the same chip as sparky's widgets!\n",
    "\n",
    "http://www.farnell.com/datasheets/1903445.pdf <------- HUGE -- this is the major reference!\n",
    "\n",
    "this is the op-amp they use:\n",
    "\n",
    "http://www.digikey.com/product-detail/en/AD8606ACBZ-REEL7/AD8606ACBZ-REEL7CT-ND/2467903\n",
    "\n",
    "other big reference: http://www.analog.com/en/design-center/reference-designs/hardware-reference-design/circuits-from-the-lab/CN0359.html#rd-overview\n",
    "\n",
    "http://www.analog.com/media/en/reference-design-documentation/reference-designs/CN0359.pdf <---- (good reference re: parts)\n",
    "\n",
    "a 555 design that makes it seem plausible (but isn't): http://emesystems.com/OL2mhos.htm\n",
    "\n",
    "a diploma using a similar conductivity circuit, with the same electrical isolation trick: (!)\n",
    "\n",
    "http://publications.lib.chalmers.se/records/fulltext/205866/205866.pdf"
   ]
  },
  {
   "cell_type": "code",
   "execution_count": null,
   "metadata": {
    "collapsed": true
   },
   "outputs": [],
   "source": []
  }
 ],
 "metadata": {
  "kernelspec": {
   "display_name": "Python 3",
   "language": "python",
   "name": "python3"
  },
  "language_info": {
   "codemirror_mode": {
    "name": "ipython",
    "version": 3
   },
   "file_extension": ".py",
   "mimetype": "text/x-python",
   "name": "python",
   "nbconvert_exporter": "python",
   "pygments_lexer": "ipython3",
   "version": "3.5.1"
  }
 },
 "nbformat": 4,
 "nbformat_minor": 0
}
