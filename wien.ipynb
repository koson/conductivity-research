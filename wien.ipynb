{
 "cells": [
  {
   "cell_type": "markdown",
   "metadata": {},
   "source": [
    "<img src=\"./images/op-amp.png\">\n",
    "\n",
    "The amplification happens on pins 5,6, and 7 of the op-amp in the circuit above.  Looking at this part of the circuit, we see that the op-amp is in a standard 'non-inverted amplifier' configuration:\n",
    "\n",
    "<img src=\"https://upload.wikimedia.org/wikipedia/commons/6/66/Operational_amplifier_noninverting.svg\">\n",
    "\n",
    "(Image is from a Wikipedia entry on [op-amps](https://en.wikipedia.org/wiki/Operational_amplifier).)\n",
    "\n",
    "Our sinusoidal input comes into the amplifier as $V_{in}$ on pin 5; and the amplified output $V_{out}$ on pin 7 is given by:\n",
    "\n",
    "$$V_{out}=G*V_{in}$$\n",
    "\n",
    "where $G$ is the gain of the amplifier, and is predicted to be:\n",
    "\n",
    "$$G = 1 + \\frac{R_f}{R_g}$$\n",
    "\n",
    "Where $R_f$ = \"R9\" in our circuit diagram above, and $R_g$ is the resistance provided by the probe in the water.  \n",
    "\n",
    "\n",
    "In this initial experiment, we used $R_f=$ 4.67 KOhms. "
   ]
  },
  {
   "cell_type": "code",
   "execution_count": 1,
   "metadata": {
    "collapsed": false
   },
   "outputs": [],
   "source": [
    "%matplotlib inline \n",
    "# above line allows for showing plots in a cell easily\n",
    "import matplotlib # the main plotting library\n",
    "import numpy as np # allows for arrays\n",
    "import matplotlib.pyplot as plt # getting specific plotting functions\n",
    "import urllib # URL import functions\n",
    "import pandas as pd # nice data utilities"
   ]
  },
  {
   "cell_type": "markdown",
   "metadata": {},
   "source": [
    "Read in the experimental values ... "
   ]
  },
  {
   "cell_type": "code",
   "execution_count": 176,
   "metadata": {
    "collapsed": false
   },
   "outputs": [],
   "source": [
    "q=pd.read_table('./data/wien_test_2016_02_13.csv', header=0,sep=',',names=['Rg','Venv','Vout']);\n",
    "p=q.sort_values(['Rg'], ascending=[1]);rg_exp=p.Rg*1000"
   ]
  },
  {
   "cell_type": "markdown",
   "metadata": {},
   "source": [
    "Generate the theoretical curve ..."
   ]
  },
  {
   "cell_type": "code",
   "execution_count": 177,
   "metadata": {
    "collapsed": false
   },
   "outputs": [],
   "source": [
    "Rf=46670\n",
    "Rg = np.linspace(500, 5500, 100)  # 1 .. 430 kOhms\n",
    "V_in=0.053  \n",
    "V_out = V_in*(1+(Rf/Rg))"
   ]
  },
  {
   "cell_type": "markdown",
   "metadata": {},
   "source": [
    "Plot ..."
   ]
  },
  {
   "cell_type": "code",
   "execution_count": 181,
   "metadata": {
    "collapsed": false
   },
   "outputs": [
    {
     "data": {
      "text/plain": [
       "<matplotlib.legend.Legend at 0x7f7908c0eb38>"
      ]
     },
     "execution_count": 181,
     "metadata": {},
     "output_type": "execute_result"
    },
    {
     "data": {
      "image/png": "[encoded data removed]",
      "text/plain": [
       "<matplotlib.figure.Figure at 0x7f7908c0e048>"
      ]
     },
     "metadata": {},
     "output_type": "display_data"
    }
   ],
   "source": [
    "plt.plot(p.Rg*1000,p.Vout,'o',label='V_out');\n",
    "\n",
    "plt.plot(p.Rg*1000,p.Venv,'o', label='V_envelope');\n",
    "\n",
    "plt.plot(Rg,V_out, label='V_out theory');\n",
    "plt.xlabel('$KOhms$')\n",
    "plt.ylabel('$Volts$')\n",
    "plt.ylim(0,3.5);\n",
    "plt.xlim(400,4700);\n",
    "plt.legend()"
   ]
  },
  {
   "cell_type": "code",
   "execution_count": 182,
   "metadata": {
    "collapsed": false
   },
   "outputs": [
    {
     "data": {
      "text/plain": [
       "<matplotlib.legend.Legend at 0x7f7908a4cef0>"
      ]
     },
     "execution_count": 182,
     "metadata": {},
     "output_type": "execute_result"
    },
    {
     "data": {
      "image/png": "[encoded data removed]",
      "text/plain": [
       "<matplotlib.figure.Figure at 0x7f7909911978>"
      ]
     },
     "metadata": {},
     "output_type": "display_data"
    }
   ],
   "source": [
    "plt.plot(1/(p.Rg*1000),p.Vout,'o',label='V_out');\n",
    "plt.plot(1/(p.Rg*1000),p.Venv,'o', label='V_envelope');\n",
    "plt.plot(1/Rg,V_out, label='V_out theory');\n",
    "plt.xlabel('$KOhms^{-1}$');\n",
    "plt.ylabel('$Volts$')\n",
    "plt.legend()"
   ]
  },
  {
   "cell_type": "markdown",
   "metadata": {},
   "source": [
    "Discrepancy between V_out_theory and V_out is likely due to an offset / bias in the op-amp itself.  See, for example:\n",
    "\n",
    "- http://www.ti.com/lit/an/sloa059/sloa059.pdf\n",
    "- http://www.analog.com/media/en/training-seminars/tutorials/MT-037.pdf?doc=CN0326.pdf\n",
    "- http://www.allaboutcircuits.com/textbook/semiconductors/chpt-8/op-amp-practical-considerations/\n",
    "\n",
    "This offset is likley not worrisome, as it should be consistent for a given device, and won't prevent calibration.\n",
    "\n",
    "The difference between V_envelope and V_out is expected, and is due to the diode + RC filter circuit.  This offset likewise will not affect calibration. \n"
   ]
  },
  {
   "cell_type": "code",
   "execution_count": null,
   "metadata": {
    "collapsed": true
   },
   "outputs": [],
   "source": []
  }
 ],
 "metadata": {
  "kernelspec": {
   "display_name": "Python 3",
   "language": "python",
   "name": "python3"
  },
  "language_info": {
   "codemirror_mode": {
    "name": "ipython",
    "version": 3
   },
   "file_extension": ".py",
   "mimetype": "text/x-python",
   "name": "python",
   "nbconvert_exporter": "python",
   "pygments_lexer": "ipython3",
   "version": "3.5.1"
  }
 },
 "nbformat": 4,
 "nbformat_minor": 0
}
